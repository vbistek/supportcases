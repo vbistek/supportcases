{
 "cells": [
  {
   "cell_type": "code",
   "execution_count": 447,
   "metadata": {},
   "outputs": [],
   "source": [
    "import pandas as pd\n",
    "import numpy as np\n",
    "import matplotlib.pyplot as plt\n",
    "import seaborn as sns\n",
    "import re\n",
    "\n",
    "import tensorflow as tf\n",
    "import tensorflow.keras as keras\n",
    "import tensorflow.keras. layers as layers\n",
    "from tensorflow.keras.preprocessing.sequence import pad_sequences\n",
    "from tensorflow.keras.preprocessing.text import Tokenizer\n",
    "from tensorflow.keras.layers import Embedding, LSTM, Dense, Bidirectional\n",
    "from tensorflow.keras.models import Sequential\n",
    "from sklearn.preprocessing import LabelEncoder, LabelBinarizer\n",
    "from sklearn.model_selection import train_test_split\n",
    "from tensorflow.keras.preprocessing.text import Tokenizer\n",
    "from tensorflow.keras.preprocessing.sequence import pad_sequences"
   ]
  },
  {
   "cell_type": "markdown",
   "metadata": {},
   "source": [
    "# Preparación de los datos"
   ]
  },
  {
   "cell_type": "code",
   "execution_count": 379,
   "metadata": {},
   "outputs": [],
   "source": [
    "support_pd = pd.read_csv('datos/HistoricData.csv')"
   ]
  },
  {
   "cell_type": "code",
   "execution_count": 380,
   "metadata": {},
   "outputs": [
    {
     "data": {
      "text/html": [
       "<div>\n",
       "<style scoped>\n",
       "    .dataframe tbody tr th:only-of-type {\n",
       "        vertical-align: middle;\n",
       "    }\n",
       "\n",
       "    .dataframe tbody tr th {\n",
       "        vertical-align: top;\n",
       "    }\n",
       "\n",
       "    .dataframe thead th {\n",
       "        text-align: right;\n",
       "    }\n",
       "</style>\n",
       "<table border=\"1\" class=\"dataframe\">\n",
       "  <thead>\n",
       "    <tr style=\"text-align: right;\">\n",
       "      <th></th>\n",
       "      <th>Case Owner</th>\n",
       "      <th>Case Record Type</th>\n",
       "      <th>Language</th>\n",
       "      <th>Type</th>\n",
       "      <th>Case Reason</th>\n",
       "      <th>Case Number</th>\n",
       "      <th>Case Origin</th>\n",
       "      <th>Priority</th>\n",
       "      <th>Root Cause</th>\n",
       "      <th>Description</th>\n",
       "      <th>...</th>\n",
       "      <th>Subject</th>\n",
       "      <th>Date/Time Opened</th>\n",
       "      <th>Date/Time Closed</th>\n",
       "      <th>Case Date/Time Last Modified</th>\n",
       "      <th>Case Age (days)</th>\n",
       "      <th>Time to FR (Minutes)</th>\n",
       "      <th>XX Met SLA</th>\n",
       "      <th>Account Name</th>\n",
       "      <th>JIRA Key</th>\n",
       "      <th>JIRA Status</th>\n",
       "    </tr>\n",
       "  </thead>\n",
       "  <tbody>\n",
       "    <tr>\n",
       "      <th>0</th>\n",
       "      <td>Support Operations</td>\n",
       "      <td>Support Operations</td>\n",
       "      <td>English</td>\n",
       "      <td>Issue</td>\n",
       "      <td>Account - General</td>\n",
       "      <td>660762.0</td>\n",
       "      <td>Support Operations Email</td>\n",
       "      <td>P3 - Normal</td>\n",
       "      <td>NaN</td>\n",
       "      <td>Hello Team,\\n\\nToday during the TS managers me...</td>\n",
       "      <td>...</td>\n",
       "      <td>Case summary field and last date and time edited</td>\n",
       "      <td>9/22/2021 2:35 AM</td>\n",
       "      <td>NaN</td>\n",
       "      <td>9/23/2021 9:03 AM</td>\n",
       "      <td>71.29</td>\n",
       "      <td>NaN</td>\n",
       "      <td>NO FR TIME</td>\n",
       "      <td>Brightcove, Inc. - Master</td>\n",
       "      <td>NaN</td>\n",
       "      <td>NaN</td>\n",
       "    </tr>\n",
       "    <tr>\n",
       "      <th>1</th>\n",
       "      <td>Francisco Lancaster</td>\n",
       "      <td>NOC Cases</td>\n",
       "      <td>English</td>\n",
       "      <td>Issue</td>\n",
       "      <td>NaN</td>\n",
       "      <td>662730.0</td>\n",
       "      <td>NOC</td>\n",
       "      <td>P3 - Normal</td>\n",
       "      <td>NaN</td>\n",
       "      <td>This case has been created to coordinate with ...</td>\n",
       "      <td>...</td>\n",
       "      <td>Live Event Coverage for Metropolitan Opera Ass...</td>\n",
       "      <td>10/6/2021 10:31 AM</td>\n",
       "      <td>NaN</td>\n",
       "      <td>10/11/2021 1:15 AM</td>\n",
       "      <td>56.96</td>\n",
       "      <td>NaN</td>\n",
       "      <td>NO FR TIME</td>\n",
       "      <td>Metropolitan Opera Association, Inc.</td>\n",
       "      <td>NaN</td>\n",
       "      <td>NaN</td>\n",
       "    </tr>\n",
       "    <tr>\n",
       "      <th>2</th>\n",
       "      <td>Support Operations</td>\n",
       "      <td>Support Operations</td>\n",
       "      <td>English</td>\n",
       "      <td>Issue</td>\n",
       "      <td>Account - General</td>\n",
       "      <td>665565.0</td>\n",
       "      <td>Support Operations Email</td>\n",
       "      <td>P3 - Normal</td>\n",
       "      <td>NaN</td>\n",
       "      <td>Hi there,\\n\\nI'm creating this case to track d...</td>\n",
       "      <td>...</td>\n",
       "      <td>Click tools potential bug</td>\n",
       "      <td>10/28/2021 12:00 PM</td>\n",
       "      <td>NaN</td>\n",
       "      <td>11/8/2021 8:32 AM</td>\n",
       "      <td>34.90</td>\n",
       "      <td>NaN</td>\n",
       "      <td>NO FR TIME</td>\n",
       "      <td>Brightcove, Inc. - Master</td>\n",
       "      <td>NaN</td>\n",
       "      <td>NaN</td>\n",
       "    </tr>\n",
       "    <tr>\n",
       "      <th>3</th>\n",
       "      <td>Paulo Padilla</td>\n",
       "      <td>Case Escalations</td>\n",
       "      <td>English</td>\n",
       "      <td>Issue</td>\n",
       "      <td>Account - General</td>\n",
       "      <td>666505.0</td>\n",
       "      <td>Escalation</td>\n",
       "      <td>P3 - Normal</td>\n",
       "      <td>NaN</td>\n",
       "      <td>Hi Abraham,\\n\\nBI have reached out to me regar...</td>\n",
       "      <td>...</td>\n",
       "      <td>Boehringer Ingelheim cases</td>\n",
       "      <td>11/5/2021 9:26 AM</td>\n",
       "      <td>NaN</td>\n",
       "      <td>11/12/2021 4:49 PM</td>\n",
       "      <td>26.96</td>\n",
       "      <td>58.95</td>\n",
       "      <td>ERROR</td>\n",
       "      <td>DNV GL AS</td>\n",
       "      <td>NaN</td>\n",
       "      <td>NaN</td>\n",
       "    </tr>\n",
       "    <tr>\n",
       "      <th>4</th>\n",
       "      <td>Dmitry Belakhov</td>\n",
       "      <td>NaN</td>\n",
       "      <td>NaN</td>\n",
       "      <td>Issue</td>\n",
       "      <td>Account - General</td>\n",
       "      <td>362539.0</td>\n",
       "      <td>Automatic Process</td>\n",
       "      <td>P3 - Normal</td>\n",
       "      <td>NaN</td>\n",
       "      <td>Brightcove systems test (ignore this case)</td>\n",
       "      <td>...</td>\n",
       "      <td>Brightcove systems test (ignore this case)</td>\n",
       "      <td>2/29/2016 9:11 AM</td>\n",
       "      <td>NaN</td>\n",
       "      <td>4/23/2018 4:50 PM</td>\n",
       "      <td>2102.97</td>\n",
       "      <td>NaN</td>\n",
       "      <td>NO FR TIME</td>\n",
       "      <td>NaN</td>\n",
       "      <td>NaN</td>\n",
       "      <td>NaN</td>\n",
       "    </tr>\n",
       "  </tbody>\n",
       "</table>\n",
       "<p>5 rows × 26 columns</p>\n",
       "</div>"
      ],
      "text/plain": [
       "            Case Owner    Case Record Type Language   Type        Case Reason  \\\n",
       "0   Support Operations  Support Operations  English  Issue  Account - General   \n",
       "1  Francisco Lancaster           NOC Cases  English  Issue                NaN   \n",
       "2   Support Operations  Support Operations  English  Issue  Account - General   \n",
       "3        Paulo Padilla    Case Escalations  English  Issue  Account - General   \n",
       "4      Dmitry Belakhov                 NaN      NaN  Issue  Account - General   \n",
       "\n",
       "   Case Number               Case Origin     Priority Root Cause  \\\n",
       "0     660762.0  Support Operations Email  P3 - Normal        NaN   \n",
       "1     662730.0                       NOC  P3 - Normal        NaN   \n",
       "2     665565.0  Support Operations Email  P3 - Normal        NaN   \n",
       "3     666505.0                Escalation  P3 - Normal        NaN   \n",
       "4     362539.0         Automatic Process  P3 - Normal        NaN   \n",
       "\n",
       "                                         Description  ...  \\\n",
       "0  Hello Team,\\n\\nToday during the TS managers me...  ...   \n",
       "1  This case has been created to coordinate with ...  ...   \n",
       "2  Hi there,\\n\\nI'm creating this case to track d...  ...   \n",
       "3  Hi Abraham,\\n\\nBI have reached out to me regar...  ...   \n",
       "4         Brightcove systems test (ignore this case)  ...   \n",
       "\n",
       "                                             Subject     Date/Time Opened  \\\n",
       "0   Case summary field and last date and time edited    9/22/2021 2:35 AM   \n",
       "1  Live Event Coverage for Metropolitan Opera Ass...   10/6/2021 10:31 AM   \n",
       "2                          Click tools potential bug  10/28/2021 12:00 PM   \n",
       "3                         Boehringer Ingelheim cases    11/5/2021 9:26 AM   \n",
       "4         Brightcove systems test (ignore this case)    2/29/2016 9:11 AM   \n",
       "\n",
       "  Date/Time Closed Case Date/Time Last Modified  Case Age (days)  \\\n",
       "0              NaN            9/23/2021 9:03 AM            71.29   \n",
       "1              NaN           10/11/2021 1:15 AM            56.96   \n",
       "2              NaN            11/8/2021 8:32 AM            34.90   \n",
       "3              NaN           11/12/2021 4:49 PM            26.96   \n",
       "4              NaN            4/23/2018 4:50 PM          2102.97   \n",
       "\n",
       "  Time to FR (Minutes)  XX Met SLA                          Account Name  \\\n",
       "0                  NaN  NO FR TIME             Brightcove, Inc. - Master   \n",
       "1                  NaN  NO FR TIME  Metropolitan Opera Association, Inc.   \n",
       "2                  NaN  NO FR TIME             Brightcove, Inc. - Master   \n",
       "3                58.95       ERROR                             DNV GL AS   \n",
       "4                  NaN  NO FR TIME                                   NaN   \n",
       "\n",
       "  JIRA Key JIRA Status  \n",
       "0      NaN         NaN  \n",
       "1      NaN         NaN  \n",
       "2      NaN         NaN  \n",
       "3      NaN         NaN  \n",
       "4      NaN         NaN  \n",
       "\n",
       "[5 rows x 26 columns]"
      ]
     },
     "execution_count": 380,
     "metadata": {},
     "output_type": "execute_result"
    }
   ],
   "source": [
    "support_pd.head()"
   ]
  },
  {
   "cell_type": "code",
   "execution_count": 381,
   "metadata": {},
   "outputs": [
    {
     "name": "stdout",
     "output_type": "stream",
     "text": [
      "<class 'pandas.core.frame.DataFrame'>\n",
      "RangeIndex: 448368 entries, 0 to 448367\n",
      "Data columns (total 26 columns):\n",
      " #   Column                        Non-Null Count   Dtype  \n",
      "---  ------                        --------------   -----  \n",
      " 0   Case Owner                    448368 non-null  object \n",
      " 1   Case Record Type              209778 non-null  object \n",
      " 2   Language                      320622 non-null  object \n",
      " 3   Type                          448265 non-null  object \n",
      " 4   Case Reason                   385199 non-null  object \n",
      " 5   Case Number                   448363 non-null  float64\n",
      " 6   Case Origin                   447792 non-null  object \n",
      " 7   Priority                      344858 non-null  object \n",
      " 8   Root Cause                    398272 non-null  object \n",
      " 9   Description                   447922 non-null  object \n",
      " 10  Product                       417523 non-null  object \n",
      " 11  BC Case Reason                433758 non-null  object \n",
      " 12  Case Sub Reason               436887 non-null  object \n",
      " 13  Case Triage Tier              403756 non-null  object \n",
      " 14  Time in Hours                 337618 non-null  float64\n",
      " 15  Status                        448363 non-null  object \n",
      " 16  Subject                       448320 non-null  object \n",
      " 17  Date/Time Opened              448363 non-null  object \n",
      " 18  Date/Time Closed              447390 non-null  object \n",
      " 19  Case Date/Time Last Modified  448363 non-null  object \n",
      " 20  Case Age (days)               448363 non-null  float64\n",
      " 21  Time to FR (Minutes)          399161 non-null  float64\n",
      " 22  XX Met SLA                    448363 non-null  object \n",
      " 23  Account Name                  427338 non-null  object \n",
      " 24  JIRA Key                      54668 non-null   object \n",
      " 25  JIRA Status                   37160 non-null   object \n",
      "dtypes: float64(4), object(22)\n",
      "memory usage: 88.9+ MB\n"
     ]
    }
   ],
   "source": [
    "support_pd.info()"
   ]
  },
  {
   "cell_type": "code",
   "execution_count": 382,
   "metadata": {},
   "outputs": [
    {
     "data": {
      "text/plain": [
       "(448368, 26)"
      ]
     },
     "execution_count": 382,
     "metadata": {},
     "output_type": "execute_result"
    }
   ],
   "source": [
    "support_pd.shape"
   ]
  },
  {
   "cell_type": "code",
   "execution_count": 383,
   "metadata": {},
   "outputs": [
    {
     "data": {
      "text/html": [
       "<div>\n",
       "<style scoped>\n",
       "    .dataframe tbody tr th:only-of-type {\n",
       "        vertical-align: middle;\n",
       "    }\n",
       "\n",
       "    .dataframe tbody tr th {\n",
       "        vertical-align: top;\n",
       "    }\n",
       "\n",
       "    .dataframe thead th {\n",
       "        text-align: right;\n",
       "    }\n",
       "</style>\n",
       "<table border=\"1\" class=\"dataframe\">\n",
       "  <thead>\n",
       "    <tr style=\"text-align: right;\">\n",
       "      <th></th>\n",
       "      <th>Case Record Type</th>\n",
       "      <th>Language</th>\n",
       "      <th>Type</th>\n",
       "      <th>Case Reason</th>\n",
       "      <th>Description</th>\n",
       "      <th>Product</th>\n",
       "      <th>BC Case Reason</th>\n",
       "      <th>Case Sub Reason</th>\n",
       "      <th>Subject</th>\n",
       "    </tr>\n",
       "  </thead>\n",
       "  <tbody>\n",
       "    <tr>\n",
       "      <th>0</th>\n",
       "      <td>Support Operations</td>\n",
       "      <td>English</td>\n",
       "      <td>Issue</td>\n",
       "      <td>Account - General</td>\n",
       "      <td>Hello Team,\\n\\nToday during the TS managers me...</td>\n",
       "      <td>Video Cloud</td>\n",
       "      <td>NaN</td>\n",
       "      <td>NaN</td>\n",
       "      <td>Case summary field and last date and time edited</td>\n",
       "    </tr>\n",
       "    <tr>\n",
       "      <th>1</th>\n",
       "      <td>NOC Cases</td>\n",
       "      <td>English</td>\n",
       "      <td>Issue</td>\n",
       "      <td>NaN</td>\n",
       "      <td>This case has been created to coordinate with ...</td>\n",
       "      <td>Video Cloud</td>\n",
       "      <td>Live Event Coverage</td>\n",
       "      <td>NaN</td>\n",
       "      <td>Live Event Coverage for Metropolitan Opera Ass...</td>\n",
       "    </tr>\n",
       "    <tr>\n",
       "      <th>2</th>\n",
       "      <td>Support Operations</td>\n",
       "      <td>English</td>\n",
       "      <td>Issue</td>\n",
       "      <td>Account - General</td>\n",
       "      <td>Hi there,\\n\\nI'm creating this case to track d...</td>\n",
       "      <td>Video Cloud</td>\n",
       "      <td>Support Operations</td>\n",
       "      <td>NaN</td>\n",
       "      <td>Click tools potential bug</td>\n",
       "    </tr>\n",
       "    <tr>\n",
       "      <th>3</th>\n",
       "      <td>Case Escalations</td>\n",
       "      <td>English</td>\n",
       "      <td>Issue</td>\n",
       "      <td>Account - General</td>\n",
       "      <td>Hi Abraham,\\n\\nBI have reached out to me regar...</td>\n",
       "      <td>Video Cloud</td>\n",
       "      <td>NaN</td>\n",
       "      <td>NaN</td>\n",
       "      <td>Boehringer Ingelheim cases</td>\n",
       "    </tr>\n",
       "    <tr>\n",
       "      <th>4</th>\n",
       "      <td>NaN</td>\n",
       "      <td>NaN</td>\n",
       "      <td>Issue</td>\n",
       "      <td>Account - General</td>\n",
       "      <td>Brightcove systems test (ignore this case)</td>\n",
       "      <td>Video Cloud</td>\n",
       "      <td>NaN</td>\n",
       "      <td>NaN</td>\n",
       "      <td>Brightcove systems test (ignore this case)</td>\n",
       "    </tr>\n",
       "  </tbody>\n",
       "</table>\n",
       "</div>"
      ],
      "text/plain": [
       "     Case Record Type Language   Type        Case Reason  \\\n",
       "0  Support Operations  English  Issue  Account - General   \n",
       "1           NOC Cases  English  Issue                NaN   \n",
       "2  Support Operations  English  Issue  Account - General   \n",
       "3    Case Escalations  English  Issue  Account - General   \n",
       "4                 NaN      NaN  Issue  Account - General   \n",
       "\n",
       "                                         Description      Product  \\\n",
       "0  Hello Team,\\n\\nToday during the TS managers me...  Video Cloud   \n",
       "1  This case has been created to coordinate with ...  Video Cloud   \n",
       "2  Hi there,\\n\\nI'm creating this case to track d...  Video Cloud   \n",
       "3  Hi Abraham,\\n\\nBI have reached out to me regar...  Video Cloud   \n",
       "4         Brightcove systems test (ignore this case)  Video Cloud   \n",
       "\n",
       "        BC Case Reason Case Sub Reason  \\\n",
       "0                  NaN             NaN   \n",
       "1  Live Event Coverage             NaN   \n",
       "2   Support Operations             NaN   \n",
       "3                  NaN             NaN   \n",
       "4                  NaN             NaN   \n",
       "\n",
       "                                             Subject  \n",
       "0   Case summary field and last date and time edited  \n",
       "1  Live Event Coverage for Metropolitan Opera Ass...  \n",
       "2                          Click tools potential bug  \n",
       "3                         Boehringer Ingelheim cases  \n",
       "4         Brightcove systems test (ignore this case)  "
      ]
     },
     "execution_count": 383,
     "metadata": {},
     "output_type": "execute_result"
    }
   ],
   "source": [
    "# Removemos las columnas que no se requieren. ('Case Owner', 'Case Number', 'Case Origin', 'Priority', 'Root Cause', 'Case Triage Tier', 'Time in Hours', 'Status', 'Date/Time Opened', 'Date/Time Closed', 'Case Date/Time Last Modified', 'Case Age (days)', 'Time to FR (Minutes)', 'XX Met SLA', 'Account Name', 'JIRA Key', 'JIRA Status')\n",
    "model_pd = support_pd.drop(['Case Owner', 'Case Number', 'Case Origin', 'Priority', 'Root Cause', 'Case Triage Tier', 'Time in Hours', 'Status', 'Date/Time Opened', 'Date/Time Closed', 'Case Date/Time Last Modified', 'Case Age (days)', 'Time to FR (Minutes)', 'XX Met SLA', 'Account Name', 'JIRA Key', 'JIRA Status'], axis=1)\n",
    "model_pd.head()"
   ]
  },
  {
   "cell_type": "code",
   "execution_count": 384,
   "metadata": {},
   "outputs": [
    {
     "data": {
      "text/plain": [
       "Case Record Type    238590\n",
       "Language            127746\n",
       "Type                   103\n",
       "Case Reason          63169\n",
       "Description            446\n",
       "Product              30845\n",
       "BC Case Reason       14610\n",
       "Case Sub Reason      11481\n",
       "Subject                 48\n",
       "dtype: int64"
      ]
     },
     "execution_count": 384,
     "metadata": {},
     "output_type": "execute_result"
    }
   ],
   "source": [
    "model_pd.isna().sum()"
   ]
  },
  {
   "cell_type": "code",
   "execution_count": 385,
   "metadata": {},
   "outputs": [
    {
     "data": {
      "text/plain": [
       "Case Record Type    238590\n",
       "Language            127746\n",
       "Type                   103\n",
       "Case Reason          63169\n",
       "Description            446\n",
       "Product              30845\n",
       "BC Case Reason       14610\n",
       "Case Sub Reason      11481\n",
       "Subject                 48\n",
       "dtype: int64"
      ]
     },
     "execution_count": 385,
     "metadata": {},
     "output_type": "execute_result"
    }
   ],
   "source": [
    "model_pd.isnull().sum()"
   ]
  },
  {
   "cell_type": "code",
   "execution_count": 386,
   "metadata": {},
   "outputs": [],
   "source": [
    "model_pd = model_pd.dropna()"
   ]
  },
  {
   "cell_type": "code",
   "execution_count": 387,
   "metadata": {},
   "outputs": [
    {
     "data": {
      "text/plain": [
       "Case Record Type    0\n",
       "Language            0\n",
       "Type                0\n",
       "Case Reason         0\n",
       "Description         0\n",
       "Product             0\n",
       "BC Case Reason      0\n",
       "Case Sub Reason     0\n",
       "Subject             0\n",
       "dtype: int64"
      ]
     },
     "execution_count": 387,
     "metadata": {},
     "output_type": "execute_result"
    }
   ],
   "source": [
    "model_pd.isnull().sum()"
   ]
  },
  {
   "cell_type": "code",
   "execution_count": 388,
   "metadata": {},
   "outputs": [
    {
     "data": {
      "text/plain": [
       "Case Record Type    0\n",
       "Language            0\n",
       "Type                0\n",
       "Case Reason         0\n",
       "Description         0\n",
       "Product             0\n",
       "BC Case Reason      0\n",
       "Case Sub Reason     0\n",
       "Subject             0\n",
       "dtype: int64"
      ]
     },
     "execution_count": 388,
     "metadata": {},
     "output_type": "execute_result"
    }
   ],
   "source": [
    "model_pd.isna().sum()"
   ]
  },
  {
   "cell_type": "code",
   "execution_count": 389,
   "metadata": {},
   "outputs": [],
   "source": [
    "model_pd.dropna(inplace=True)"
   ]
  },
  {
   "cell_type": "code",
   "execution_count": 390,
   "metadata": {},
   "outputs": [
    {
     "data": {
      "text/html": [
       "<div>\n",
       "<style scoped>\n",
       "    .dataframe tbody tr th:only-of-type {\n",
       "        vertical-align: middle;\n",
       "    }\n",
       "\n",
       "    .dataframe tbody tr th {\n",
       "        vertical-align: top;\n",
       "    }\n",
       "\n",
       "    .dataframe thead th {\n",
       "        text-align: right;\n",
       "    }\n",
       "</style>\n",
       "<table border=\"1\" class=\"dataframe\">\n",
       "  <thead>\n",
       "    <tr style=\"text-align: right;\">\n",
       "      <th></th>\n",
       "      <th>Case Record Type</th>\n",
       "      <th>Language</th>\n",
       "      <th>Type</th>\n",
       "      <th>Case Reason</th>\n",
       "      <th>Description</th>\n",
       "      <th>Product</th>\n",
       "      <th>BC Case Reason</th>\n",
       "      <th>Case Sub Reason</th>\n",
       "      <th>Subject</th>\n",
       "    </tr>\n",
       "  </thead>\n",
       "  <tbody>\n",
       "    <tr>\n",
       "      <th>7</th>\n",
       "      <td>CS Documentation</td>\n",
       "      <td>English</td>\n",
       "      <td>Issue</td>\n",
       "      <td>Account - General</td>\n",
       "      <td>CS DOC SKY UK</td>\n",
       "      <td>Video Cloud</td>\n",
       "      <td>CS - Documentation (CS site/ Localization)</td>\n",
       "      <td>Create New</td>\n",
       "      <td>CS DOC SKY UK</td>\n",
       "    </tr>\n",
       "    <tr>\n",
       "      <th>18</th>\n",
       "      <td>CS Documentation</td>\n",
       "      <td>English</td>\n",
       "      <td>Issue</td>\n",
       "      <td>Account - General</td>\n",
       "      <td>CS Doc Analytics overview training sessions</td>\n",
       "      <td>Video Cloud</td>\n",
       "      <td>CS - Documentation (CS site/ Localization)</td>\n",
       "      <td>Create New</td>\n",
       "      <td>CS doc - Analytics training</td>\n",
       "    </tr>\n",
       "    <tr>\n",
       "      <th>26</th>\n",
       "      <td>CS Documentation</td>\n",
       "      <td>English</td>\n",
       "      <td>Issue</td>\n",
       "      <td>Account - General</td>\n",
       "      <td>I will do a FEED to chat with product about th...</td>\n",
       "      <td>Video Cloud</td>\n",
       "      <td>CS - Documentation (CS site/ Localization)</td>\n",
       "      <td>Create New</td>\n",
       "      <td>Product to clarify the process for zero rating</td>\n",
       "    </tr>\n",
       "    <tr>\n",
       "      <th>27</th>\n",
       "      <td>CS Documentation</td>\n",
       "      <td>English</td>\n",
       "      <td>Issue</td>\n",
       "      <td>Account - General</td>\n",
       "      <td>DWS Gatekeeper Support Handoff</td>\n",
       "      <td>Video Cloud</td>\n",
       "      <td>CS - Documentation (CS site/ Localization)</td>\n",
       "      <td>Create New</td>\n",
       "      <td>DWS Gatekeeper Support Handoff</td>\n",
       "    </tr>\n",
       "    <tr>\n",
       "      <th>28</th>\n",
       "      <td>CS Documentation</td>\n",
       "      <td>Spanish</td>\n",
       "      <td>Issue</td>\n",
       "      <td>Account - General</td>\n",
       "      <td>Timetracker</td>\n",
       "      <td>Partner</td>\n",
       "      <td>CS - Documentation (CS site/ Localization)</td>\n",
       "      <td>Create New</td>\n",
       "      <td>Videos for task based cases</td>\n",
       "    </tr>\n",
       "  </tbody>\n",
       "</table>\n",
       "</div>"
      ],
      "text/plain": [
       "    Case Record Type Language   Type        Case Reason  \\\n",
       "7   CS Documentation  English  Issue  Account - General   \n",
       "18  CS Documentation  English  Issue  Account - General   \n",
       "26  CS Documentation  English  Issue  Account - General   \n",
       "27  CS Documentation  English  Issue  Account - General   \n",
       "28  CS Documentation  Spanish  Issue  Account - General   \n",
       "\n",
       "                                          Description      Product  \\\n",
       "7                                       CS DOC SKY UK  Video Cloud   \n",
       "18        CS Doc Analytics overview training sessions  Video Cloud   \n",
       "26  I will do a FEED to chat with product about th...  Video Cloud   \n",
       "27                     DWS Gatekeeper Support Handoff  Video Cloud   \n",
       "28                                        Timetracker      Partner   \n",
       "\n",
       "                                BC Case Reason Case Sub Reason  \\\n",
       "7   CS - Documentation (CS site/ Localization)      Create New   \n",
       "18  CS - Documentation (CS site/ Localization)      Create New   \n",
       "26  CS - Documentation (CS site/ Localization)      Create New   \n",
       "27  CS - Documentation (CS site/ Localization)      Create New   \n",
       "28  CS - Documentation (CS site/ Localization)      Create New   \n",
       "\n",
       "                                           Subject  \n",
       "7                                    CS DOC SKY UK  \n",
       "18                     CS doc - Analytics training  \n",
       "26  Product to clarify the process for zero rating  \n",
       "27                  DWS Gatekeeper Support Handoff  \n",
       "28                     Videos for task based cases  "
      ]
     },
     "execution_count": 390,
     "metadata": {},
     "output_type": "execute_result"
    }
   ],
   "source": [
    "model_pd.head()"
   ]
  },
  {
   "cell_type": "code",
   "execution_count": 391,
   "metadata": {},
   "outputs": [
    {
     "data": {
      "text/plain": [
       "(196417, 9)"
      ]
     },
     "execution_count": 391,
     "metadata": {},
     "output_type": "execute_result"
    }
   ],
   "source": [
    "model_pd.shape"
   ]
  },
  {
   "cell_type": "code",
   "execution_count": 392,
   "metadata": {},
   "outputs": [
    {
     "data": {
      "text/plain": [
       "Customer Support Cases    194216\n",
       "CS Documentation            1615\n",
       "Support Operations           585\n",
       "Case Escalations               1\n",
       "Name: Case Record Type, dtype: int64"
      ]
     },
     "execution_count": 392,
     "metadata": {},
     "output_type": "execute_result"
    }
   ],
   "source": [
    "model_pd['Case Record Type'].value_counts()"
   ]
  },
  {
   "cell_type": "code",
   "execution_count": 393,
   "metadata": {},
   "outputs": [
    {
     "data": {
      "text/plain": [
       "English     177068\n",
       "Japanese     16924\n",
       "Korean        2122\n",
       "Spanish        221\n",
       "French          63\n",
       "Italian         10\n",
       "en               4\n",
       "German           4\n",
       "Catalan          1\n",
       "Name: Language, dtype: int64"
      ]
     },
     "execution_count": 393,
     "metadata": {},
     "output_type": "execute_result"
    }
   ],
   "source": [
    "model_pd['Language'].value_counts()"
   ]
  },
  {
   "cell_type": "code",
   "execution_count": 394,
   "metadata": {},
   "outputs": [],
   "source": [
    "model_pd = model_pd[model_pd['Language'] == 'English']"
   ]
  },
  {
   "cell_type": "code",
   "execution_count": 395,
   "metadata": {},
   "outputs": [
    {
     "data": {
      "text/plain": [
       "English    177068\n",
       "Name: Language, dtype: int64"
      ]
     },
     "execution_count": 395,
     "metadata": {},
     "output_type": "execute_result"
    }
   ],
   "source": [
    "model_pd['Language'].value_counts()"
   ]
  },
  {
   "cell_type": "code",
   "execution_count": 396,
   "metadata": {},
   "outputs": [
    {
     "data": {
      "text/plain": [
       "Customer Support Cases    174869\n",
       "CS Documentation            1613\n",
       "Support Operations           585\n",
       "Case Escalations               1\n",
       "Name: Case Record Type, dtype: int64"
      ]
     },
     "execution_count": 396,
     "metadata": {},
     "output_type": "execute_result"
    }
   ],
   "source": [
    "model_pd['Case Record Type'].value_counts()"
   ]
  },
  {
   "cell_type": "code",
   "execution_count": 397,
   "metadata": {},
   "outputs": [],
   "source": [
    "model_pd = model_pd[model_pd['Case Record Type'] == 'Customer Support Cases']"
   ]
  },
  {
   "cell_type": "code",
   "execution_count": 398,
   "metadata": {},
   "outputs": [
    {
     "data": {
      "text/plain": [
       "Customer Support Cases    174869\n",
       "Name: Case Record Type, dtype: int64"
      ]
     },
     "execution_count": 398,
     "metadata": {},
     "output_type": "execute_result"
    }
   ],
   "source": [
    "model_pd['Case Record Type'].value_counts()"
   ]
  },
  {
   "cell_type": "code",
   "execution_count": 399,
   "metadata": {},
   "outputs": [
    {
     "data": {
      "text/html": [
       "<div>\n",
       "<style scoped>\n",
       "    .dataframe tbody tr th:only-of-type {\n",
       "        vertical-align: middle;\n",
       "    }\n",
       "\n",
       "    .dataframe tbody tr th {\n",
       "        vertical-align: top;\n",
       "    }\n",
       "\n",
       "    .dataframe thead th {\n",
       "        text-align: right;\n",
       "    }\n",
       "</style>\n",
       "<table border=\"1\" class=\"dataframe\">\n",
       "  <thead>\n",
       "    <tr style=\"text-align: right;\">\n",
       "      <th></th>\n",
       "      <th>Case Record Type</th>\n",
       "      <th>Language</th>\n",
       "      <th>Type</th>\n",
       "      <th>Case Reason</th>\n",
       "      <th>Description</th>\n",
       "      <th>Product</th>\n",
       "      <th>BC Case Reason</th>\n",
       "      <th>Case Sub Reason</th>\n",
       "      <th>Subject</th>\n",
       "    </tr>\n",
       "  </thead>\n",
       "  <tbody>\n",
       "    <tr>\n",
       "      <th>88</th>\n",
       "      <td>Customer Support Cases</td>\n",
       "      <td>English</td>\n",
       "      <td>Issue</td>\n",
       "      <td>Account - General</td>\n",
       "      <td>Hi Support\\n\\nI'm not entirely sure this is th...</td>\n",
       "      <td>OTT</td>\n",
       "      <td>Beacon</td>\n",
       "      <td>Other</td>\n",
       "      <td>TapGo new sachet pricing</td>\n",
       "    </tr>\n",
       "    <tr>\n",
       "      <th>90</th>\n",
       "      <td>Customer Support Cases</td>\n",
       "      <td>English</td>\n",
       "      <td>Issue</td>\n",
       "      <td>Account - General</td>\n",
       "      <td>Hello,\\n\\nWe've added the Brightcove AMP plugi...</td>\n",
       "      <td>Video Cloud</td>\n",
       "      <td>Web Player</td>\n",
       "      <td>Plugins - Other</td>\n",
       "      <td>NYPost - Google AMP Analytics for playlists</td>\n",
       "    </tr>\n",
       "    <tr>\n",
       "      <th>91</th>\n",
       "      <td>Customer Support Cases</td>\n",
       "      <td>English</td>\n",
       "      <td>Issue</td>\n",
       "      <td>Account - General</td>\n",
       "      <td>Hello,\\n\\nWe have noticed an odd issue when ca...</td>\n",
       "      <td>Video Cloud</td>\n",
       "      <td>Web Player</td>\n",
       "      <td>Plugins - Brightcove</td>\n",
       "      <td>AirPlay pausing from the iOS lock screen</td>\n",
       "    </tr>\n",
       "    <tr>\n",
       "      <th>94</th>\n",
       "      <td>Customer Support Cases</td>\n",
       "      <td>English</td>\n",
       "      <td>Issue</td>\n",
       "      <td>Account - General</td>\n",
       "      <td>Additional Google PlayStore configuration needed</td>\n",
       "      <td>Video Cloud</td>\n",
       "      <td>Beacon</td>\n",
       "      <td>Other</td>\n",
       "      <td>Additional Google PlayStore configuration needed</td>\n",
       "    </tr>\n",
       "    <tr>\n",
       "      <th>96</th>\n",
       "      <td>Customer Support Cases</td>\n",
       "      <td>English</td>\n",
       "      <td>Issue</td>\n",
       "      <td>Account - General</td>\n",
       "      <td>Customer: Singapore Tourism Board\\nAccount ID:...</td>\n",
       "      <td>Video Cloud</td>\n",
       "      <td>Playback</td>\n",
       "      <td>Other</td>\n",
       "      <td>Request for BC-JIRA ticket - SG Tourism Board</td>\n",
       "    </tr>\n",
       "  </tbody>\n",
       "</table>\n",
       "</div>"
      ],
      "text/plain": [
       "          Case Record Type Language   Type        Case Reason  \\\n",
       "88  Customer Support Cases  English  Issue  Account - General   \n",
       "90  Customer Support Cases  English  Issue  Account - General   \n",
       "91  Customer Support Cases  English  Issue  Account - General   \n",
       "94  Customer Support Cases  English  Issue  Account - General   \n",
       "96  Customer Support Cases  English  Issue  Account - General   \n",
       "\n",
       "                                          Description      Product  \\\n",
       "88  Hi Support\\n\\nI'm not entirely sure this is th...          OTT   \n",
       "90  Hello,\\n\\nWe've added the Brightcove AMP plugi...  Video Cloud   \n",
       "91  Hello,\\n\\nWe have noticed an odd issue when ca...  Video Cloud   \n",
       "94   Additional Google PlayStore configuration needed  Video Cloud   \n",
       "96  Customer: Singapore Tourism Board\\nAccount ID:...  Video Cloud   \n",
       "\n",
       "   BC Case Reason       Case Sub Reason  \\\n",
       "88         Beacon                 Other   \n",
       "90     Web Player       Plugins - Other   \n",
       "91     Web Player  Plugins - Brightcove   \n",
       "94         Beacon                 Other   \n",
       "96       Playback                 Other   \n",
       "\n",
       "                                             Subject  \n",
       "88                          TapGo new sachet pricing  \n",
       "90       NYPost - Google AMP Analytics for playlists  \n",
       "91          AirPlay pausing from the iOS lock screen  \n",
       "94  Additional Google PlayStore configuration needed  \n",
       "96     Request for BC-JIRA ticket - SG Tourism Board  "
      ]
     },
     "execution_count": 399,
     "metadata": {},
     "output_type": "execute_result"
    }
   ],
   "source": [
    "model_pd.head()"
   ]
  },
  {
   "cell_type": "code",
   "execution_count": 400,
   "metadata": {},
   "outputs": [
    {
     "data": {
      "text/plain": [
       "Issue               174853\n",
       "Feedback                 9\n",
       "Network EOL              2\n",
       "Inquiry                  2\n",
       "Systems Issue            1\n",
       "Internal Request         1\n",
       "Other                    1\n",
       "Name: Type, dtype: int64"
      ]
     },
     "execution_count": 400,
     "metadata": {},
     "output_type": "execute_result"
    }
   ],
   "source": [
    "model_pd['Type'].value_counts()"
   ]
  },
  {
   "cell_type": "code",
   "execution_count": 401,
   "metadata": {},
   "outputs": [],
   "source": [
    "model_pd = model_pd[model_pd['Type'] == 'Issue']"
   ]
  },
  {
   "cell_type": "code",
   "execution_count": 402,
   "metadata": {},
   "outputs": [
    {
     "data": {
      "text/plain": [
       "Issue    174853\n",
       "Name: Type, dtype: int64"
      ]
     },
     "execution_count": 402,
     "metadata": {},
     "output_type": "execute_result"
    }
   ],
   "source": [
    "model_pd['Type'].value_counts()"
   ]
  },
  {
   "cell_type": "code",
   "execution_count": 403,
   "metadata": {},
   "outputs": [
    {
     "data": {
      "text/plain": [
       "Account - General        174835\n",
       "Abuse                        16\n",
       "Technical - Uploading         1\n",
       "Beta - Publishpod             1\n",
       "Name: Case Reason, dtype: int64"
      ]
     },
     "execution_count": 403,
     "metadata": {},
     "output_type": "execute_result"
    }
   ],
   "source": [
    "model_pd['Case Reason'].value_counts()"
   ]
  },
  {
   "cell_type": "code",
   "execution_count": 404,
   "metadata": {},
   "outputs": [],
   "source": [
    "model_pd = model_pd[model_pd['Case Reason'] == 'Account - General']"
   ]
  },
  {
   "cell_type": "code",
   "execution_count": 405,
   "metadata": {},
   "outputs": [
    {
     "data": {
      "text/plain": [
       "Account - General    174835\n",
       "Name: Case Reason, dtype: int64"
      ]
     },
     "execution_count": 405,
     "metadata": {},
     "output_type": "execute_result"
    }
   ],
   "source": [
    "model_pd['Case Reason'].value_counts()"
   ]
  },
  {
   "cell_type": "code",
   "execution_count": 406,
   "metadata": {},
   "outputs": [],
   "source": [
    "model_pd = model_pd.drop('Case Sub Reason', axis=1)"
   ]
  },
  {
   "cell_type": "code",
   "execution_count": 407,
   "metadata": {},
   "outputs": [
    {
     "data": {
      "text/html": [
       "<div>\n",
       "<style scoped>\n",
       "    .dataframe tbody tr th:only-of-type {\n",
       "        vertical-align: middle;\n",
       "    }\n",
       "\n",
       "    .dataframe tbody tr th {\n",
       "        vertical-align: top;\n",
       "    }\n",
       "\n",
       "    .dataframe thead th {\n",
       "        text-align: right;\n",
       "    }\n",
       "</style>\n",
       "<table border=\"1\" class=\"dataframe\">\n",
       "  <thead>\n",
       "    <tr style=\"text-align: right;\">\n",
       "      <th></th>\n",
       "      <th>Case Record Type</th>\n",
       "      <th>Language</th>\n",
       "      <th>Type</th>\n",
       "      <th>Case Reason</th>\n",
       "      <th>Description</th>\n",
       "      <th>Product</th>\n",
       "      <th>BC Case Reason</th>\n",
       "      <th>Subject</th>\n",
       "    </tr>\n",
       "  </thead>\n",
       "  <tbody>\n",
       "    <tr>\n",
       "      <th>88</th>\n",
       "      <td>Customer Support Cases</td>\n",
       "      <td>English</td>\n",
       "      <td>Issue</td>\n",
       "      <td>Account - General</td>\n",
       "      <td>Hi Support\\n\\nI'm not entirely sure this is th...</td>\n",
       "      <td>OTT</td>\n",
       "      <td>Beacon</td>\n",
       "      <td>TapGo new sachet pricing</td>\n",
       "    </tr>\n",
       "    <tr>\n",
       "      <th>90</th>\n",
       "      <td>Customer Support Cases</td>\n",
       "      <td>English</td>\n",
       "      <td>Issue</td>\n",
       "      <td>Account - General</td>\n",
       "      <td>Hello,\\n\\nWe've added the Brightcove AMP plugi...</td>\n",
       "      <td>Video Cloud</td>\n",
       "      <td>Web Player</td>\n",
       "      <td>NYPost - Google AMP Analytics for playlists</td>\n",
       "    </tr>\n",
       "    <tr>\n",
       "      <th>91</th>\n",
       "      <td>Customer Support Cases</td>\n",
       "      <td>English</td>\n",
       "      <td>Issue</td>\n",
       "      <td>Account - General</td>\n",
       "      <td>Hello,\\n\\nWe have noticed an odd issue when ca...</td>\n",
       "      <td>Video Cloud</td>\n",
       "      <td>Web Player</td>\n",
       "      <td>AirPlay pausing from the iOS lock screen</td>\n",
       "    </tr>\n",
       "    <tr>\n",
       "      <th>94</th>\n",
       "      <td>Customer Support Cases</td>\n",
       "      <td>English</td>\n",
       "      <td>Issue</td>\n",
       "      <td>Account - General</td>\n",
       "      <td>Additional Google PlayStore configuration needed</td>\n",
       "      <td>Video Cloud</td>\n",
       "      <td>Beacon</td>\n",
       "      <td>Additional Google PlayStore configuration needed</td>\n",
       "    </tr>\n",
       "    <tr>\n",
       "      <th>96</th>\n",
       "      <td>Customer Support Cases</td>\n",
       "      <td>English</td>\n",
       "      <td>Issue</td>\n",
       "      <td>Account - General</td>\n",
       "      <td>Customer: Singapore Tourism Board\\nAccount ID:...</td>\n",
       "      <td>Video Cloud</td>\n",
       "      <td>Playback</td>\n",
       "      <td>Request for BC-JIRA ticket - SG Tourism Board</td>\n",
       "    </tr>\n",
       "  </tbody>\n",
       "</table>\n",
       "</div>"
      ],
      "text/plain": [
       "          Case Record Type Language   Type        Case Reason  \\\n",
       "88  Customer Support Cases  English  Issue  Account - General   \n",
       "90  Customer Support Cases  English  Issue  Account - General   \n",
       "91  Customer Support Cases  English  Issue  Account - General   \n",
       "94  Customer Support Cases  English  Issue  Account - General   \n",
       "96  Customer Support Cases  English  Issue  Account - General   \n",
       "\n",
       "                                          Description      Product  \\\n",
       "88  Hi Support\\n\\nI'm not entirely sure this is th...          OTT   \n",
       "90  Hello,\\n\\nWe've added the Brightcove AMP plugi...  Video Cloud   \n",
       "91  Hello,\\n\\nWe have noticed an odd issue when ca...  Video Cloud   \n",
       "94   Additional Google PlayStore configuration needed  Video Cloud   \n",
       "96  Customer: Singapore Tourism Board\\nAccount ID:...  Video Cloud   \n",
       "\n",
       "   BC Case Reason                                           Subject  \n",
       "88         Beacon                          TapGo new sachet pricing  \n",
       "90     Web Player       NYPost - Google AMP Analytics for playlists  \n",
       "91     Web Player          AirPlay pausing from the iOS lock screen  \n",
       "94         Beacon  Additional Google PlayStore configuration needed  \n",
       "96       Playback     Request for BC-JIRA ticket - SG Tourism Board  "
      ]
     },
     "execution_count": 407,
     "metadata": {},
     "output_type": "execute_result"
    }
   ],
   "source": [
    "model_pd.head()"
   ]
  },
  {
   "cell_type": "code",
   "execution_count": 408,
   "metadata": {},
   "outputs": [
    {
     "data": {
      "text/html": [
       "<div>\n",
       "<style scoped>\n",
       "    .dataframe tbody tr th:only-of-type {\n",
       "        vertical-align: middle;\n",
       "    }\n",
       "\n",
       "    .dataframe tbody tr th {\n",
       "        vertical-align: top;\n",
       "    }\n",
       "\n",
       "    .dataframe thead th {\n",
       "        text-align: right;\n",
       "    }\n",
       "</style>\n",
       "<table border=\"1\" class=\"dataframe\">\n",
       "  <thead>\n",
       "    <tr style=\"text-align: right;\">\n",
       "      <th></th>\n",
       "      <th>Case Record Type</th>\n",
       "      <th>Type</th>\n",
       "      <th>Case Reason</th>\n",
       "      <th>Description</th>\n",
       "      <th>Product</th>\n",
       "      <th>BC Case Reason</th>\n",
       "      <th>Subject</th>\n",
       "    </tr>\n",
       "  </thead>\n",
       "  <tbody>\n",
       "    <tr>\n",
       "      <th>88</th>\n",
       "      <td>Customer Support Cases</td>\n",
       "      <td>Issue</td>\n",
       "      <td>Account - General</td>\n",
       "      <td>Hi Support\\n\\nI'm not entirely sure this is th...</td>\n",
       "      <td>OTT</td>\n",
       "      <td>Beacon</td>\n",
       "      <td>TapGo new sachet pricing</td>\n",
       "    </tr>\n",
       "    <tr>\n",
       "      <th>90</th>\n",
       "      <td>Customer Support Cases</td>\n",
       "      <td>Issue</td>\n",
       "      <td>Account - General</td>\n",
       "      <td>Hello,\\n\\nWe've added the Brightcove AMP plugi...</td>\n",
       "      <td>Video Cloud</td>\n",
       "      <td>Web Player</td>\n",
       "      <td>NYPost - Google AMP Analytics for playlists</td>\n",
       "    </tr>\n",
       "    <tr>\n",
       "      <th>91</th>\n",
       "      <td>Customer Support Cases</td>\n",
       "      <td>Issue</td>\n",
       "      <td>Account - General</td>\n",
       "      <td>Hello,\\n\\nWe have noticed an odd issue when ca...</td>\n",
       "      <td>Video Cloud</td>\n",
       "      <td>Web Player</td>\n",
       "      <td>AirPlay pausing from the iOS lock screen</td>\n",
       "    </tr>\n",
       "    <tr>\n",
       "      <th>94</th>\n",
       "      <td>Customer Support Cases</td>\n",
       "      <td>Issue</td>\n",
       "      <td>Account - General</td>\n",
       "      <td>Additional Google PlayStore configuration needed</td>\n",
       "      <td>Video Cloud</td>\n",
       "      <td>Beacon</td>\n",
       "      <td>Additional Google PlayStore configuration needed</td>\n",
       "    </tr>\n",
       "    <tr>\n",
       "      <th>96</th>\n",
       "      <td>Customer Support Cases</td>\n",
       "      <td>Issue</td>\n",
       "      <td>Account - General</td>\n",
       "      <td>Customer: Singapore Tourism Board\\nAccount ID:...</td>\n",
       "      <td>Video Cloud</td>\n",
       "      <td>Playback</td>\n",
       "      <td>Request for BC-JIRA ticket - SG Tourism Board</td>\n",
       "    </tr>\n",
       "  </tbody>\n",
       "</table>\n",
       "</div>"
      ],
      "text/plain": [
       "          Case Record Type   Type        Case Reason  \\\n",
       "88  Customer Support Cases  Issue  Account - General   \n",
       "90  Customer Support Cases  Issue  Account - General   \n",
       "91  Customer Support Cases  Issue  Account - General   \n",
       "94  Customer Support Cases  Issue  Account - General   \n",
       "96  Customer Support Cases  Issue  Account - General   \n",
       "\n",
       "                                          Description      Product  \\\n",
       "88  Hi Support\\n\\nI'm not entirely sure this is th...          OTT   \n",
       "90  Hello,\\n\\nWe've added the Brightcove AMP plugi...  Video Cloud   \n",
       "91  Hello,\\n\\nWe have noticed an odd issue when ca...  Video Cloud   \n",
       "94   Additional Google PlayStore configuration needed  Video Cloud   \n",
       "96  Customer: Singapore Tourism Board\\nAccount ID:...  Video Cloud   \n",
       "\n",
       "   BC Case Reason                                           Subject  \n",
       "88         Beacon                          TapGo new sachet pricing  \n",
       "90     Web Player       NYPost - Google AMP Analytics for playlists  \n",
       "91     Web Player          AirPlay pausing from the iOS lock screen  \n",
       "94         Beacon  Additional Google PlayStore configuration needed  \n",
       "96       Playback     Request for BC-JIRA ticket - SG Tourism Board  "
      ]
     },
     "execution_count": 408,
     "metadata": {},
     "output_type": "execute_result"
    }
   ],
   "source": [
    "model_pd = model_pd.drop('Language', axis=1)\n",
    "model_pd.head()"
   ]
  },
  {
   "cell_type": "code",
   "execution_count": 409,
   "metadata": {},
   "outputs": [
    {
     "data": {
      "text/html": [
       "<div>\n",
       "<style scoped>\n",
       "    .dataframe tbody tr th:only-of-type {\n",
       "        vertical-align: middle;\n",
       "    }\n",
       "\n",
       "    .dataframe tbody tr th {\n",
       "        vertical-align: top;\n",
       "    }\n",
       "\n",
       "    .dataframe thead th {\n",
       "        text-align: right;\n",
       "    }\n",
       "</style>\n",
       "<table border=\"1\" class=\"dataframe\">\n",
       "  <thead>\n",
       "    <tr style=\"text-align: right;\">\n",
       "      <th></th>\n",
       "      <th>Type</th>\n",
       "      <th>Case Reason</th>\n",
       "      <th>Description</th>\n",
       "      <th>Product</th>\n",
       "      <th>BC Case Reason</th>\n",
       "      <th>Subject</th>\n",
       "    </tr>\n",
       "  </thead>\n",
       "  <tbody>\n",
       "    <tr>\n",
       "      <th>88</th>\n",
       "      <td>Issue</td>\n",
       "      <td>Account - General</td>\n",
       "      <td>Hi Support\\n\\nI'm not entirely sure this is th...</td>\n",
       "      <td>OTT</td>\n",
       "      <td>Beacon</td>\n",
       "      <td>TapGo new sachet pricing</td>\n",
       "    </tr>\n",
       "    <tr>\n",
       "      <th>90</th>\n",
       "      <td>Issue</td>\n",
       "      <td>Account - General</td>\n",
       "      <td>Hello,\\n\\nWe've added the Brightcove AMP plugi...</td>\n",
       "      <td>Video Cloud</td>\n",
       "      <td>Web Player</td>\n",
       "      <td>NYPost - Google AMP Analytics for playlists</td>\n",
       "    </tr>\n",
       "    <tr>\n",
       "      <th>91</th>\n",
       "      <td>Issue</td>\n",
       "      <td>Account - General</td>\n",
       "      <td>Hello,\\n\\nWe have noticed an odd issue when ca...</td>\n",
       "      <td>Video Cloud</td>\n",
       "      <td>Web Player</td>\n",
       "      <td>AirPlay pausing from the iOS lock screen</td>\n",
       "    </tr>\n",
       "    <tr>\n",
       "      <th>94</th>\n",
       "      <td>Issue</td>\n",
       "      <td>Account - General</td>\n",
       "      <td>Additional Google PlayStore configuration needed</td>\n",
       "      <td>Video Cloud</td>\n",
       "      <td>Beacon</td>\n",
       "      <td>Additional Google PlayStore configuration needed</td>\n",
       "    </tr>\n",
       "    <tr>\n",
       "      <th>96</th>\n",
       "      <td>Issue</td>\n",
       "      <td>Account - General</td>\n",
       "      <td>Customer: Singapore Tourism Board\\nAccount ID:...</td>\n",
       "      <td>Video Cloud</td>\n",
       "      <td>Playback</td>\n",
       "      <td>Request for BC-JIRA ticket - SG Tourism Board</td>\n",
       "    </tr>\n",
       "  </tbody>\n",
       "</table>\n",
       "</div>"
      ],
      "text/plain": [
       "     Type        Case Reason  \\\n",
       "88  Issue  Account - General   \n",
       "90  Issue  Account - General   \n",
       "91  Issue  Account - General   \n",
       "94  Issue  Account - General   \n",
       "96  Issue  Account - General   \n",
       "\n",
       "                                          Description      Product  \\\n",
       "88  Hi Support\\n\\nI'm not entirely sure this is th...          OTT   \n",
       "90  Hello,\\n\\nWe've added the Brightcove AMP plugi...  Video Cloud   \n",
       "91  Hello,\\n\\nWe have noticed an odd issue when ca...  Video Cloud   \n",
       "94   Additional Google PlayStore configuration needed  Video Cloud   \n",
       "96  Customer: Singapore Tourism Board\\nAccount ID:...  Video Cloud   \n",
       "\n",
       "   BC Case Reason                                           Subject  \n",
       "88         Beacon                          TapGo new sachet pricing  \n",
       "90     Web Player       NYPost - Google AMP Analytics for playlists  \n",
       "91     Web Player          AirPlay pausing from the iOS lock screen  \n",
       "94         Beacon  Additional Google PlayStore configuration needed  \n",
       "96       Playback     Request for BC-JIRA ticket - SG Tourism Board  "
      ]
     },
     "execution_count": 409,
     "metadata": {},
     "output_type": "execute_result"
    }
   ],
   "source": [
    "model_pd = model_pd.drop('Case Record Type', axis=1)\n",
    "model_pd.head()"
   ]
  },
  {
   "cell_type": "code",
   "execution_count": 410,
   "metadata": {},
   "outputs": [
    {
     "data": {
      "text/html": [
       "<div>\n",
       "<style scoped>\n",
       "    .dataframe tbody tr th:only-of-type {\n",
       "        vertical-align: middle;\n",
       "    }\n",
       "\n",
       "    .dataframe tbody tr th {\n",
       "        vertical-align: top;\n",
       "    }\n",
       "\n",
       "    .dataframe thead th {\n",
       "        text-align: right;\n",
       "    }\n",
       "</style>\n",
       "<table border=\"1\" class=\"dataframe\">\n",
       "  <thead>\n",
       "    <tr style=\"text-align: right;\">\n",
       "      <th></th>\n",
       "      <th>Case Reason</th>\n",
       "      <th>Description</th>\n",
       "      <th>Product</th>\n",
       "      <th>BC Case Reason</th>\n",
       "      <th>Subject</th>\n",
       "    </tr>\n",
       "  </thead>\n",
       "  <tbody>\n",
       "    <tr>\n",
       "      <th>88</th>\n",
       "      <td>Account - General</td>\n",
       "      <td>Hi Support\\n\\nI'm not entirely sure this is th...</td>\n",
       "      <td>OTT</td>\n",
       "      <td>Beacon</td>\n",
       "      <td>TapGo new sachet pricing</td>\n",
       "    </tr>\n",
       "    <tr>\n",
       "      <th>90</th>\n",
       "      <td>Account - General</td>\n",
       "      <td>Hello,\\n\\nWe've added the Brightcove AMP plugi...</td>\n",
       "      <td>Video Cloud</td>\n",
       "      <td>Web Player</td>\n",
       "      <td>NYPost - Google AMP Analytics for playlists</td>\n",
       "    </tr>\n",
       "    <tr>\n",
       "      <th>91</th>\n",
       "      <td>Account - General</td>\n",
       "      <td>Hello,\\n\\nWe have noticed an odd issue when ca...</td>\n",
       "      <td>Video Cloud</td>\n",
       "      <td>Web Player</td>\n",
       "      <td>AirPlay pausing from the iOS lock screen</td>\n",
       "    </tr>\n",
       "    <tr>\n",
       "      <th>94</th>\n",
       "      <td>Account - General</td>\n",
       "      <td>Additional Google PlayStore configuration needed</td>\n",
       "      <td>Video Cloud</td>\n",
       "      <td>Beacon</td>\n",
       "      <td>Additional Google PlayStore configuration needed</td>\n",
       "    </tr>\n",
       "    <tr>\n",
       "      <th>96</th>\n",
       "      <td>Account - General</td>\n",
       "      <td>Customer: Singapore Tourism Board\\nAccount ID:...</td>\n",
       "      <td>Video Cloud</td>\n",
       "      <td>Playback</td>\n",
       "      <td>Request for BC-JIRA ticket - SG Tourism Board</td>\n",
       "    </tr>\n",
       "  </tbody>\n",
       "</table>\n",
       "</div>"
      ],
      "text/plain": [
       "          Case Reason                                        Description  \\\n",
       "88  Account - General  Hi Support\\n\\nI'm not entirely sure this is th...   \n",
       "90  Account - General  Hello,\\n\\nWe've added the Brightcove AMP plugi...   \n",
       "91  Account - General  Hello,\\n\\nWe have noticed an odd issue when ca...   \n",
       "94  Account - General   Additional Google PlayStore configuration needed   \n",
       "96  Account - General  Customer: Singapore Tourism Board\\nAccount ID:...   \n",
       "\n",
       "        Product BC Case Reason  \\\n",
       "88          OTT         Beacon   \n",
       "90  Video Cloud     Web Player   \n",
       "91  Video Cloud     Web Player   \n",
       "94  Video Cloud         Beacon   \n",
       "96  Video Cloud       Playback   \n",
       "\n",
       "                                             Subject  \n",
       "88                          TapGo new sachet pricing  \n",
       "90       NYPost - Google AMP Analytics for playlists  \n",
       "91          AirPlay pausing from the iOS lock screen  \n",
       "94  Additional Google PlayStore configuration needed  \n",
       "96     Request for BC-JIRA ticket - SG Tourism Board  "
      ]
     },
     "execution_count": 410,
     "metadata": {},
     "output_type": "execute_result"
    }
   ],
   "source": [
    "model_pd = model_pd.drop('Type', axis=1)\n",
    "model_pd.head()"
   ]
  },
  {
   "cell_type": "code",
   "execution_count": 411,
   "metadata": {},
   "outputs": [
    {
     "data": {
      "text/html": [
       "<div>\n",
       "<style scoped>\n",
       "    .dataframe tbody tr th:only-of-type {\n",
       "        vertical-align: middle;\n",
       "    }\n",
       "\n",
       "    .dataframe tbody tr th {\n",
       "        vertical-align: top;\n",
       "    }\n",
       "\n",
       "    .dataframe thead th {\n",
       "        text-align: right;\n",
       "    }\n",
       "</style>\n",
       "<table border=\"1\" class=\"dataframe\">\n",
       "  <thead>\n",
       "    <tr style=\"text-align: right;\">\n",
       "      <th></th>\n",
       "      <th>Description</th>\n",
       "      <th>Product</th>\n",
       "      <th>BC Case Reason</th>\n",
       "      <th>Subject</th>\n",
       "    </tr>\n",
       "  </thead>\n",
       "  <tbody>\n",
       "    <tr>\n",
       "      <th>88</th>\n",
       "      <td>Hi Support\\n\\nI'm not entirely sure this is th...</td>\n",
       "      <td>OTT</td>\n",
       "      <td>Beacon</td>\n",
       "      <td>TapGo new sachet pricing</td>\n",
       "    </tr>\n",
       "    <tr>\n",
       "      <th>90</th>\n",
       "      <td>Hello,\\n\\nWe've added the Brightcove AMP plugi...</td>\n",
       "      <td>Video Cloud</td>\n",
       "      <td>Web Player</td>\n",
       "      <td>NYPost - Google AMP Analytics for playlists</td>\n",
       "    </tr>\n",
       "    <tr>\n",
       "      <th>91</th>\n",
       "      <td>Hello,\\n\\nWe have noticed an odd issue when ca...</td>\n",
       "      <td>Video Cloud</td>\n",
       "      <td>Web Player</td>\n",
       "      <td>AirPlay pausing from the iOS lock screen</td>\n",
       "    </tr>\n",
       "    <tr>\n",
       "      <th>94</th>\n",
       "      <td>Additional Google PlayStore configuration needed</td>\n",
       "      <td>Video Cloud</td>\n",
       "      <td>Beacon</td>\n",
       "      <td>Additional Google PlayStore configuration needed</td>\n",
       "    </tr>\n",
       "    <tr>\n",
       "      <th>96</th>\n",
       "      <td>Customer: Singapore Tourism Board\\nAccount ID:...</td>\n",
       "      <td>Video Cloud</td>\n",
       "      <td>Playback</td>\n",
       "      <td>Request for BC-JIRA ticket - SG Tourism Board</td>\n",
       "    </tr>\n",
       "  </tbody>\n",
       "</table>\n",
       "</div>"
      ],
      "text/plain": [
       "                                          Description      Product  \\\n",
       "88  Hi Support\\n\\nI'm not entirely sure this is th...          OTT   \n",
       "90  Hello,\\n\\nWe've added the Brightcove AMP plugi...  Video Cloud   \n",
       "91  Hello,\\n\\nWe have noticed an odd issue when ca...  Video Cloud   \n",
       "94   Additional Google PlayStore configuration needed  Video Cloud   \n",
       "96  Customer: Singapore Tourism Board\\nAccount ID:...  Video Cloud   \n",
       "\n",
       "   BC Case Reason                                           Subject  \n",
       "88         Beacon                          TapGo new sachet pricing  \n",
       "90     Web Player       NYPost - Google AMP Analytics for playlists  \n",
       "91     Web Player          AirPlay pausing from the iOS lock screen  \n",
       "94         Beacon  Additional Google PlayStore configuration needed  \n",
       "96       Playback     Request for BC-JIRA ticket - SG Tourism Board  "
      ]
     },
     "execution_count": 411,
     "metadata": {},
     "output_type": "execute_result"
    }
   ],
   "source": [
    "model_pd = model_pd.drop('Case Reason', axis=1)\n",
    "model_pd.head()"
   ]
  },
  {
   "cell_type": "code",
   "execution_count": 412,
   "metadata": {},
   "outputs": [],
   "source": [
    "model_pd['Text'] = model_pd['Subject'] + \" \" + model_pd['Description']"
   ]
  },
  {
   "cell_type": "code",
   "execution_count": 413,
   "metadata": {},
   "outputs": [
    {
     "data": {
      "text/html": [
       "<div>\n",
       "<style scoped>\n",
       "    .dataframe tbody tr th:only-of-type {\n",
       "        vertical-align: middle;\n",
       "    }\n",
       "\n",
       "    .dataframe tbody tr th {\n",
       "        vertical-align: top;\n",
       "    }\n",
       "\n",
       "    .dataframe thead th {\n",
       "        text-align: right;\n",
       "    }\n",
       "</style>\n",
       "<table border=\"1\" class=\"dataframe\">\n",
       "  <thead>\n",
       "    <tr style=\"text-align: right;\">\n",
       "      <th></th>\n",
       "      <th>Description</th>\n",
       "      <th>Product</th>\n",
       "      <th>BC Case Reason</th>\n",
       "      <th>Subject</th>\n",
       "      <th>Text</th>\n",
       "    </tr>\n",
       "  </thead>\n",
       "  <tbody>\n",
       "    <tr>\n",
       "      <th>88</th>\n",
       "      <td>Hi Support\\n\\nI'm not entirely sure this is th...</td>\n",
       "      <td>OTT</td>\n",
       "      <td>Beacon</td>\n",
       "      <td>TapGo new sachet pricing</td>\n",
       "      <td>TapGo new sachet pricing Hi Support\\n\\nI'm not...</td>\n",
       "    </tr>\n",
       "    <tr>\n",
       "      <th>90</th>\n",
       "      <td>Hello,\\n\\nWe've added the Brightcove AMP plugi...</td>\n",
       "      <td>Video Cloud</td>\n",
       "      <td>Web Player</td>\n",
       "      <td>NYPost - Google AMP Analytics for playlists</td>\n",
       "      <td>NYPost - Google AMP Analytics for playlists He...</td>\n",
       "    </tr>\n",
       "    <tr>\n",
       "      <th>91</th>\n",
       "      <td>Hello,\\n\\nWe have noticed an odd issue when ca...</td>\n",
       "      <td>Video Cloud</td>\n",
       "      <td>Web Player</td>\n",
       "      <td>AirPlay pausing from the iOS lock screen</td>\n",
       "      <td>AirPlay pausing from the iOS lock screen Hello...</td>\n",
       "    </tr>\n",
       "    <tr>\n",
       "      <th>94</th>\n",
       "      <td>Additional Google PlayStore configuration needed</td>\n",
       "      <td>Video Cloud</td>\n",
       "      <td>Beacon</td>\n",
       "      <td>Additional Google PlayStore configuration needed</td>\n",
       "      <td>Additional Google PlayStore configuration need...</td>\n",
       "    </tr>\n",
       "    <tr>\n",
       "      <th>96</th>\n",
       "      <td>Customer: Singapore Tourism Board\\nAccount ID:...</td>\n",
       "      <td>Video Cloud</td>\n",
       "      <td>Playback</td>\n",
       "      <td>Request for BC-JIRA ticket - SG Tourism Board</td>\n",
       "      <td>Request for BC-JIRA ticket - SG Tourism Board ...</td>\n",
       "    </tr>\n",
       "  </tbody>\n",
       "</table>\n",
       "</div>"
      ],
      "text/plain": [
       "                                          Description      Product  \\\n",
       "88  Hi Support\\n\\nI'm not entirely sure this is th...          OTT   \n",
       "90  Hello,\\n\\nWe've added the Brightcove AMP plugi...  Video Cloud   \n",
       "91  Hello,\\n\\nWe have noticed an odd issue when ca...  Video Cloud   \n",
       "94   Additional Google PlayStore configuration needed  Video Cloud   \n",
       "96  Customer: Singapore Tourism Board\\nAccount ID:...  Video Cloud   \n",
       "\n",
       "   BC Case Reason                                           Subject  \\\n",
       "88         Beacon                          TapGo new sachet pricing   \n",
       "90     Web Player       NYPost - Google AMP Analytics for playlists   \n",
       "91     Web Player          AirPlay pausing from the iOS lock screen   \n",
       "94         Beacon  Additional Google PlayStore configuration needed   \n",
       "96       Playback     Request for BC-JIRA ticket - SG Tourism Board   \n",
       "\n",
       "                                                 Text  \n",
       "88  TapGo new sachet pricing Hi Support\\n\\nI'm not...  \n",
       "90  NYPost - Google AMP Analytics for playlists He...  \n",
       "91  AirPlay pausing from the iOS lock screen Hello...  \n",
       "94  Additional Google PlayStore configuration need...  \n",
       "96  Request for BC-JIRA ticket - SG Tourism Board ...  "
      ]
     },
     "execution_count": 413,
     "metadata": {},
     "output_type": "execute_result"
    }
   ],
   "source": [
    "model_pd.head()"
   ]
  },
  {
   "cell_type": "code",
   "execution_count": 414,
   "metadata": {},
   "outputs": [
    {
     "data": {
      "text/plain": [
       "'TapGo new sachet pricing Hi Support\\n\\nI\\'m not entirely sure this is the right process but it seems the most\\nlogical.\\nTapGo is a Beacon customer, and they want to define new sachet pricing as\\nfollows:\\n\\n[image: image.png]\\n\\nThis is also tracked in the sheet TapGo Stores Submission 3Q 2021 tab:\\n\\nhttps://docs.google.com/spreadsheets/d/1YuG_DRUHoeVJFzHdsG4k_nmwbubWa5ylr3gc2JarDJc/edit#gid=1934417063\\n\\n\"Subscriptions\", rows 57 - 74).\\n\\nEvergent has already defined the sachets in their sandbox environment.\\nTo check if the flows are working fine in sandbox with these new passes /\\nsachets, Beacon team should also define them.\\n\\nCan you please help liaising with the Beacon team on this?\\n\\nThanks\\nCatherine'"
      ]
     },
     "execution_count": 414,
     "metadata": {},
     "output_type": "execute_result"
    }
   ],
   "source": [
    "model_pd['Text'][88]"
   ]
  },
  {
   "cell_type": "code",
   "execution_count": 415,
   "metadata": {},
   "outputs": [],
   "source": [
    "model_pd['Text'] =   model_pd['Text'].map(lambda x:re.sub('[^a-zA-Z0-9.\" \\n\\.]', '', x))"
   ]
  },
  {
   "cell_type": "code",
   "execution_count": 416,
   "metadata": {},
   "outputs": [],
   "source": [
    "model_pd['Text'] =   model_pd['Text'].map(lambda x:\"\".join(x))"
   ]
  },
  {
   "cell_type": "code",
   "execution_count": 417,
   "metadata": {},
   "outputs": [
    {
     "data": {
      "text/plain": [
       "88    TapGo new sachet pricing Hi Support\\n\\nIm not ...\n",
       "90    NYPost  Google AMP Analytics for playlists Hel...\n",
       "91    AirPlay pausing from the iOS lock screen Hello...\n",
       "94    Additional Google PlayStore configuration need...\n",
       "96    Request for BCJIRA ticket  SG Tourism Board Cu...\n",
       "Name: Text, dtype: object"
      ]
     },
     "execution_count": 417,
     "metadata": {},
     "output_type": "execute_result"
    }
   ],
   "source": [
    "model_pd['Text'].head()"
   ]
  },
  {
   "cell_type": "code",
   "execution_count": 418,
   "metadata": {},
   "outputs": [],
   "source": [
    "model_pd['Text'] = model_pd['Text'].replace(r'\\n', ' ', regex=True)"
   ]
  },
  {
   "cell_type": "code",
   "execution_count": 419,
   "metadata": {},
   "outputs": [
    {
     "data": {
      "text/plain": [
       "'TapGo new sachet pricing Hi Support  Im not entirely sure this is the right process but it seems the most logical. TapGo is a Beacon customer and they want to define new sachet pricing as follows  image image.png  This is also tracked in the sheet TapGo Stores Submission 3Q 2021 tab  httpsdocs.google.comspreadsheetsd1YuGDRUHoeVJFzHdsG4knmwbubWa5ylr3gc2JarDJceditgid1934417063  \"Subscriptions\" rows 57  74.  Evergent has already defined the sachets in their sandbox environment. To check if the flows are working fine in sandbox with these new passes  sachets Beacon team should also define them.  Can you please help liaising with the Beacon team on this  Thanks Catherine'"
      ]
     },
     "execution_count": 419,
     "metadata": {},
     "output_type": "execute_result"
    }
   ],
   "source": [
    "model_pd['Text'][88]"
   ]
  },
  {
   "cell_type": "code",
   "execution_count": 420,
   "metadata": {},
   "outputs": [],
   "source": [
    "model_pd['Text'] = model_pd['Text'].str.replace(\"  \", \" \")"
   ]
  },
  {
   "cell_type": "code",
   "execution_count": 421,
   "metadata": {},
   "outputs": [
    {
     "data": {
      "text/plain": [
       "'TapGo new sachet pricing Hi Support Im not entirely sure this is the right process but it seems the most logical. TapGo is a Beacon customer and they want to define new sachet pricing as follows image image.png This is also tracked in the sheet TapGo Stores Submission 3Q 2021 tab httpsdocs.google.comspreadsheetsd1YuGDRUHoeVJFzHdsG4knmwbubWa5ylr3gc2JarDJceditgid1934417063 \"Subscriptions\" rows 57 74. Evergent has already defined the sachets in their sandbox environment. To check if the flows are working fine in sandbox with these new passes sachets Beacon team should also define them. Can you please help liaising with the Beacon team on this Thanks Catherine'"
      ]
     },
     "execution_count": 421,
     "metadata": {},
     "output_type": "execute_result"
    }
   ],
   "source": [
    "model_pd['Text'][88]"
   ]
  },
  {
   "cell_type": "code",
   "execution_count": 422,
   "metadata": {},
   "outputs": [],
   "source": [
    "model_pd['Text'] = model_pd['Text'].str.replace('\"', \"\")"
   ]
  },
  {
   "cell_type": "code",
   "execution_count": 423,
   "metadata": {},
   "outputs": [
    {
     "data": {
      "text/plain": [
       "'TapGo new sachet pricing Hi Support Im not entirely sure this is the right process but it seems the most logical. TapGo is a Beacon customer and they want to define new sachet pricing as follows image image.png This is also tracked in the sheet TapGo Stores Submission 3Q 2021 tab httpsdocs.google.comspreadsheetsd1YuGDRUHoeVJFzHdsG4knmwbubWa5ylr3gc2JarDJceditgid1934417063 Subscriptions rows 57 74. Evergent has already defined the sachets in their sandbox environment. To check if the flows are working fine in sandbox with these new passes sachets Beacon team should also define them. Can you please help liaising with the Beacon team on this Thanks Catherine'"
      ]
     },
     "execution_count": 423,
     "metadata": {},
     "output_type": "execute_result"
    }
   ],
   "source": [
    "model_pd['Text'][88]"
   ]
  },
  {
   "cell_type": "code",
   "execution_count": 424,
   "metadata": {},
   "outputs": [
    {
     "data": {
      "text/html": [
       "<div>\n",
       "<style scoped>\n",
       "    .dataframe tbody tr th:only-of-type {\n",
       "        vertical-align: middle;\n",
       "    }\n",
       "\n",
       "    .dataframe tbody tr th {\n",
       "        vertical-align: top;\n",
       "    }\n",
       "\n",
       "    .dataframe thead th {\n",
       "        text-align: right;\n",
       "    }\n",
       "</style>\n",
       "<table border=\"1\" class=\"dataframe\">\n",
       "  <thead>\n",
       "    <tr style=\"text-align: right;\">\n",
       "      <th></th>\n",
       "      <th>Description</th>\n",
       "      <th>Product</th>\n",
       "      <th>BC Case Reason</th>\n",
       "      <th>Subject</th>\n",
       "      <th>Text</th>\n",
       "    </tr>\n",
       "  </thead>\n",
       "  <tbody>\n",
       "    <tr>\n",
       "      <th>88</th>\n",
       "      <td>Hi Support\\n\\nI'm not entirely sure this is th...</td>\n",
       "      <td>OTT</td>\n",
       "      <td>Beacon</td>\n",
       "      <td>TapGo new sachet pricing</td>\n",
       "      <td>TapGo new sachet pricing Hi Support Im not ent...</td>\n",
       "    </tr>\n",
       "    <tr>\n",
       "      <th>90</th>\n",
       "      <td>Hello,\\n\\nWe've added the Brightcove AMP plugi...</td>\n",
       "      <td>Video Cloud</td>\n",
       "      <td>Web Player</td>\n",
       "      <td>NYPost - Google AMP Analytics for playlists</td>\n",
       "      <td>NYPost Google AMP Analytics for playlists Hell...</td>\n",
       "    </tr>\n",
       "    <tr>\n",
       "      <th>91</th>\n",
       "      <td>Hello,\\n\\nWe have noticed an odd issue when ca...</td>\n",
       "      <td>Video Cloud</td>\n",
       "      <td>Web Player</td>\n",
       "      <td>AirPlay pausing from the iOS lock screen</td>\n",
       "      <td>AirPlay pausing from the iOS lock screen Hello...</td>\n",
       "    </tr>\n",
       "    <tr>\n",
       "      <th>94</th>\n",
       "      <td>Additional Google PlayStore configuration needed</td>\n",
       "      <td>Video Cloud</td>\n",
       "      <td>Beacon</td>\n",
       "      <td>Additional Google PlayStore configuration needed</td>\n",
       "      <td>Additional Google PlayStore configuration need...</td>\n",
       "    </tr>\n",
       "    <tr>\n",
       "      <th>96</th>\n",
       "      <td>Customer: Singapore Tourism Board\\nAccount ID:...</td>\n",
       "      <td>Video Cloud</td>\n",
       "      <td>Playback</td>\n",
       "      <td>Request for BC-JIRA ticket - SG Tourism Board</td>\n",
       "      <td>Request for BCJIRA ticket SG Tourism Board Cus...</td>\n",
       "    </tr>\n",
       "  </tbody>\n",
       "</table>\n",
       "</div>"
      ],
      "text/plain": [
       "                                          Description      Product  \\\n",
       "88  Hi Support\\n\\nI'm not entirely sure this is th...          OTT   \n",
       "90  Hello,\\n\\nWe've added the Brightcove AMP plugi...  Video Cloud   \n",
       "91  Hello,\\n\\nWe have noticed an odd issue when ca...  Video Cloud   \n",
       "94   Additional Google PlayStore configuration needed  Video Cloud   \n",
       "96  Customer: Singapore Tourism Board\\nAccount ID:...  Video Cloud   \n",
       "\n",
       "   BC Case Reason                                           Subject  \\\n",
       "88         Beacon                          TapGo new sachet pricing   \n",
       "90     Web Player       NYPost - Google AMP Analytics for playlists   \n",
       "91     Web Player          AirPlay pausing from the iOS lock screen   \n",
       "94         Beacon  Additional Google PlayStore configuration needed   \n",
       "96       Playback     Request for BC-JIRA ticket - SG Tourism Board   \n",
       "\n",
       "                                                 Text  \n",
       "88  TapGo new sachet pricing Hi Support Im not ent...  \n",
       "90  NYPost Google AMP Analytics for playlists Hell...  \n",
       "91  AirPlay pausing from the iOS lock screen Hello...  \n",
       "94  Additional Google PlayStore configuration need...  \n",
       "96  Request for BCJIRA ticket SG Tourism Board Cus...  "
      ]
     },
     "execution_count": 424,
     "metadata": {},
     "output_type": "execute_result"
    }
   ],
   "source": [
    "model_pd.head()"
   ]
  },
  {
   "cell_type": "markdown",
   "metadata": {},
   "source": [
    "# Exploración de los datos"
   ]
  },
  {
   "cell_type": "code",
   "execution_count": 425,
   "metadata": {},
   "outputs": [],
   "source": [
    "X = model_pd['Text'].to_numpy()"
   ]
  },
  {
   "cell_type": "code",
   "execution_count": 426,
   "metadata": {},
   "outputs": [
    {
     "data": {
      "text/plain": [
       "(174835,)"
      ]
     },
     "execution_count": 426,
     "metadata": {},
     "output_type": "execute_result"
    }
   ],
   "source": [
    "X.shape"
   ]
  },
  {
   "cell_type": "code",
   "execution_count": 427,
   "metadata": {},
   "outputs": [
    {
     "name": "stdout",
     "output_type": "stream",
     "text": [
      "(30960,)\n",
      "Promedio:  709.5790202190636\n",
      "Min:  1\n",
      "Max:  30959\n"
     ]
    }
   ],
   "source": [
    "# Longitud mínima, máxima y promedio\n",
    "mx = 0\n",
    "mn = 100000\n",
    "sm = 0\n",
    "serie = np.zeros((30960))\n",
    "print(serie.shape)\n",
    "for i in range(X.shape[0]):\n",
    "  l = len(X[i])\n",
    "  serie[l]=serie[l]+1\n",
    "  if l>mx:\n",
    "    mx=l\n",
    "  if l<mn:\n",
    "    mn=l\n",
    "  sm = sm + l\n",
    "print(\"Promedio: \", sm/X.shape[0])\n",
    "print(\"Min: \", mn)\n",
    "print(\"Max: \", mx)"
   ]
  },
  {
   "cell_type": "code",
   "execution_count": 428,
   "metadata": {},
   "outputs": [
    {
     "data": {
      "image/png": "[encoded data removed]",
      "text/plain": [
       "<Figure size 720x720 with 1 Axes>"
      ]
     },
     "metadata": {
      "needs_background": "light"
     },
     "output_type": "display_data"
    }
   ],
   "source": [
    "# Grafiquemos el histograma de longitudes de secuencias de texto\n",
    "import matplotlib.pyplot as plt\n",
    "import pylab\n",
    "plt.bar(np.arange(serie.shape[0]),serie)\n",
    "plt.ylim([0,400])\n",
    "plt.show()"
   ]
  },
  {
   "cell_type": "code",
   "execution_count": 429,
   "metadata": {},
   "outputs": [
    {
     "data": {
      "text/plain": [
       "Video Cloud            154668\n",
       "Ooyala                   5655\n",
       "Gallery                  4656\n",
       "Zencoder                 4225\n",
       "Once                     3880\n",
       "OTT                      1364\n",
       "Perform                   217\n",
       "Partner                    69\n",
       "PlayTV                     41\n",
       "Brightcove Campaign        35\n",
       "Brightcove Engage          21\n",
       "App Cloud                   4\n",
       "Name: Product, dtype: int64"
      ]
     },
     "execution_count": 429,
     "metadata": {},
     "output_type": "execute_result"
    }
   ],
   "source": [
    "model_pd['Product'].value_counts()"
   ]
  },
  {
   "cell_type": "code",
   "execution_count": 430,
   "metadata": {},
   "outputs": [
    {
     "data": {
      "text/plain": [
       "<AxesSubplot:>"
      ]
     },
     "execution_count": 430,
     "metadata": {},
     "output_type": "execute_result"
    },
    {
     "data": {
      "image/png": "[encoded data removed]",
      "text/plain": [
       "<Figure size 720x720 with 1 Axes>"
      ]
     },
     "metadata": {
      "needs_background": "light"
     },
     "output_type": "display_data"
    }
   ],
   "source": [
    "model_pd['Product'].value_counts().plot(kind=\"bar\")"
   ]
  },
  {
   "cell_type": "code",
   "execution_count": 431,
   "metadata": {},
   "outputs": [
    {
     "data": {
      "text/plain": [
       "Account Settings            46038\n",
       "Web Player                  15408\n",
       "API and Custom Dev          12692\n",
       "Studio                       9559\n",
       "Playback                     8081\n",
       "                            ...  \n",
       "Encoding                        1\n",
       "Analytics                       1\n",
       "Premium Advertising             1\n",
       "Administration - Perform        1\n",
       "App Playback                    1\n",
       "Name: BC Case Reason, Length: 94, dtype: int64"
      ]
     },
     "execution_count": 431,
     "metadata": {},
     "output_type": "execute_result"
    }
   ],
   "source": [
    "model_pd['BC Case Reason'].value_counts()"
   ]
  },
  {
   "cell_type": "code",
   "execution_count": 508,
   "metadata": {},
   "outputs": [
    {
     "data": {
      "text/plain": [
       "<AxesSubplot:>"
      ]
     },
     "execution_count": 508,
     "metadata": {},
     "output_type": "execute_result"
    },
    {
     "data": {
      "image/png": "[encoded data removed]",
      "text/plain": [
       "<Figure size 1440x1440 with 1 Axes>"
      ]
     },
     "metadata": {
      "needs_background": "light"
     },
     "output_type": "display_data"
    }
   ],
   "source": [
    "model_pd['BC Case Reason'].value_counts().plot(kind=\"bar\", figsize=(20,20))"
   ]
  },
  {
   "cell_type": "markdown",
   "metadata": {},
   "source": [
    "# Construcción del modelo"
   ]
  },
  {
   "cell_type": "code",
   "execution_count": 440,
   "metadata": {},
   "outputs": [],
   "source": [
    "label_encoder = LabelBinarizer()\n",
    "Y1 = label_encoder.fit_transform(model_pd['Product'])"
   ]
  },
  {
   "cell_type": "code",
   "execution_count": 437,
   "metadata": {},
   "outputs": [],
   "source": [
    "label_encoder2 = LabelBinarizer()\n",
    "Y2 = label_encoder2.fit_transform(model_pd['BC Case Reason'])"
   ]
  },
  {
   "cell_type": "code",
   "execution_count": 441,
   "metadata": {},
   "outputs": [],
   "source": [
    "X_train, X_val, Y_train, Y_val = train_test_split(X, Y1, test_size=0.2, random_state=24, shuffle=True)\n",
    "X2_train, X2_val, Y2_train, Y2_val = train_test_split(X, Y2, test_size=0.2, random_state=24, shuffle=True)"
   ]
  },
  {
   "cell_type": "code",
   "execution_count": 444,
   "metadata": {},
   "outputs": [],
   "source": [
    "maxlen = 2000\n",
    "\n",
    "tokenizer = Tokenizer(num_words=6000, oov_token=\"<OOV>\", lower=True)\n",
    "tokenizer.fit_on_texts(X_train)\n",
    "word_index = tokenizer.word_index\n",
    "sequences = tokenizer.texts_to_sequences(X_train)\n",
    "\n",
    "X_train_padded = pad_sequences(sequences, maxlen, padding='post', truncating='post')\n",
    "\n",
    "sequences = tokenizer.texts_to_sequences(X_val)\n",
    "\n",
    "X_val_padded = pad_sequences(sequences, maxlen, padding='post', truncating='post')"
   ]
  },
  {
   "cell_type": "code",
   "execution_count": 463,
   "metadata": {},
   "outputs": [],
   "source": [
    "maxlen = 2000\n",
    "\n",
    "tokenizer = Tokenizer(num_words=6000, oov_token=\"<OOV>\", lower=True)\n",
    "tokenizer.fit_on_texts(X2_train)\n",
    "word_index = tokenizer.word_index\n",
    "sequences = tokenizer.texts_to_sequences(X2_train)\n",
    "\n",
    "X2_train_padded = pad_sequences(sequences, maxlen, padding='post', truncating='post')\n",
    "\n",
    "sequences = tokenizer.texts_to_sequences(X2_val)\n",
    "\n",
    "X2_val_padded = pad_sequences(sequences, maxlen, padding='post', truncating='post')"
   ]
  },
  {
   "cell_type": "code",
   "execution_count": 445,
   "metadata": {},
   "outputs": [
    {
     "name": "stdout",
     "output_type": "stream",
     "text": [
      "[630  22   1 ...   0   0   0]\n"
     ]
    }
   ],
   "source": [
    "print(X_train_padded[0])"
   ]
  },
  {
   "cell_type": "code",
   "execution_count": 446,
   "metadata": {},
   "outputs": [
    {
     "data": {
      "text/plain": [
       "(139868, 2000)"
      ]
     },
     "execution_count": 446,
     "metadata": {},
     "output_type": "execute_result"
    }
   ],
   "source": [
    "X_train_padded.shape"
   ]
  },
  {
   "cell_type": "code",
   "execution_count": 449,
   "metadata": {},
   "outputs": [
    {
     "data": {
      "text/plain": [
       "12"
      ]
     },
     "execution_count": 449,
     "metadata": {},
     "output_type": "execute_result"
    }
   ],
   "source": [
    "Y1.shape[1]"
   ]
  },
  {
   "cell_type": "markdown",
   "metadata": {},
   "source": [
    "## Product model"
   ]
  },
  {
   "cell_type": "code",
   "execution_count": 450,
   "metadata": {},
   "outputs": [
    {
     "name": "stderr",
     "output_type": "stream",
     "text": [
      "2021-12-02 13:46:57.985326: I tensorflow/stream_executor/cuda/cuda_gpu_executor.cc:939] successful NUMA node read from SysFS had negative value (-1), but there must be at least one NUMA node, so returning NUMA node zero\n",
      "2021-12-02 13:46:58.007775: I tensorflow/stream_executor/cuda/cuda_gpu_executor.cc:939] successful NUMA node read from SysFS had negative value (-1), but there must be at least one NUMA node, so returning NUMA node zero\n",
      "2021-12-02 13:46:58.007957: I tensorflow/stream_executor/cuda/cuda_gpu_executor.cc:939] successful NUMA node read from SysFS had negative value (-1), but there must be at least one NUMA node, so returning NUMA node zero\n",
      "2021-12-02 13:46:58.009019: I tensorflow/core/platform/cpu_feature_guard.cc:151] This TensorFlow binary is optimized with oneAPI Deep Neural Network Library (oneDNN) to use the following CPU instructions in performance-critical operations:  AVX2 FMA\n",
      "To enable them in other operations, rebuild TensorFlow with the appropriate compiler flags.\n",
      "2021-12-02 13:46:58.010275: I tensorflow/stream_executor/cuda/cuda_gpu_executor.cc:939] successful NUMA node read from SysFS had negative value (-1), but there must be at least one NUMA node, so returning NUMA node zero\n",
      "2021-12-02 13:46:58.010461: I tensorflow/stream_executor/cuda/cuda_gpu_executor.cc:939] successful NUMA node read from SysFS had negative value (-1), but there must be at least one NUMA node, so returning NUMA node zero\n",
      "2021-12-02 13:46:58.010611: I tensorflow/stream_executor/cuda/cuda_gpu_executor.cc:939] successful NUMA node read from SysFS had negative value (-1), but there must be at least one NUMA node, so returning NUMA node zero\n",
      "2021-12-02 13:46:58.471828: I tensorflow/stream_executor/cuda/cuda_gpu_executor.cc:939] successful NUMA node read from SysFS had negative value (-1), but there must be at least one NUMA node, so returning NUMA node zero\n",
      "2021-12-02 13:46:58.471998: I tensorflow/stream_executor/cuda/cuda_gpu_executor.cc:939] successful NUMA node read from SysFS had negative value (-1), but there must be at least one NUMA node, so returning NUMA node zero\n",
      "2021-12-02 13:46:58.472134: I tensorflow/stream_executor/cuda/cuda_gpu_executor.cc:939] successful NUMA node read from SysFS had negative value (-1), but there must be at least one NUMA node, so returning NUMA node zero\n",
      "2021-12-02 13:46:58.472261: I tensorflow/core/common_runtime/gpu/gpu_device.cc:1525] Created device /job:localhost/replica:0/task:0/device:GPU:0 with 20317 MB memory:  -> device: 0, name: NVIDIA GeForce RTX 3090, pci bus id: 0000:0c:00.0, compute capability: 8.6\n"
     ]
    },
    {
     "name": "stdout",
     "output_type": "stream",
     "text": [
      "Model: \"sequential\"\n",
      "_________________________________________________________________\n",
      " Layer (type)                Output Shape              Param #   \n",
      "=================================================================\n",
      " embedding (Embedding)       (None, 2000, 16)          96000     \n",
      "                                                                 \n",
      " bidirectional (Bidirectiona  (None, 2000, 128)        41472     \n",
      " l)                                                              \n",
      "                                                                 \n",
      " bidirectional_1 (Bidirectio  (None, 128)              98816     \n",
      " nal)                                                            \n",
      "                                                                 \n",
      " dense (Dense)               (None, 12)                1548      \n",
      "                                                                 \n",
      "=================================================================\n",
      "Total params: 237,836\n",
      "Trainable params: 237,836\n",
      "Non-trainable params: 0\n",
      "_________________________________________________________________\n"
     ]
    }
   ],
   "source": [
    "vocab_size = 6000\n",
    "embedding_dim = 16 #dimensión de los vectores densos (word embeddings)\n",
    "\n",
    "model = keras.Sequential([\n",
    "                          layers.Embedding(vocab_size, embedding_dim, input_length=maxlen),\n",
    "                          layers.Bidirectional(layers.LSTM(64, return_sequences=True)),\n",
    "                          layers.Bidirectional(layers.LSTM(64)),\n",
    "                          layers.Dense(12, activation=\"sigmoid\")\n",
    "])\n",
    "\n",
    "model.summary()"
   ]
  },
  {
   "cell_type": "code",
   "execution_count": 451,
   "metadata": {},
   "outputs": [],
   "source": [
    "model.compile(loss=\"categorical_crossentropy\", optimizer=\"adam\", metrics=['accuracy'])"
   ]
  },
  {
   "cell_type": "code",
   "execution_count": 452,
   "metadata": {},
   "outputs": [
    {
     "name": "stdout",
     "output_type": "stream",
     "text": [
      "Epoch 1/2\n"
     ]
    },
    {
     "name": "stderr",
     "output_type": "stream",
     "text": [
      "2021-12-02 13:47:48.724395: I tensorflow/stream_executor/cuda/cuda_dnn.cc:366] Loaded cuDNN version 8301\n",
      "Could not load symbol cublasGetSmCountTarget from libcublas.so.11. Error: /usr/local/cuda/lib64/libcublas.so.11: undefined symbol: cublasGetSmCountTarget\n",
      "2021-12-02 13:47:48.940105: I tensorflow/stream_executor/cuda/cuda_blas.cc:1774] TensorFloat-32 will be used for the matrix multiplication. This will only be logged once.\n"
     ]
    },
    {
     "name": "stdout",
     "output_type": "stream",
     "text": [
      "4371/4371 [==============================] - 871s 199ms/step - loss: 0.2901 - accuracy: 0.9249 - val_loss: 0.2165 - val_accuracy: 0.9405\n",
      "Epoch 2/2\n",
      "4371/4371 [==============================] - 870s 199ms/step - loss: 0.1992 - accuracy: 0.9437 - val_loss: 0.1879 - val_accuracy: 0.9437\n"
     ]
    }
   ],
   "source": [
    "h = model.fit(X_train_padded, Y_train, epochs=2, validation_data=(X_val_padded, Y_val))"
   ]
  },
  {
   "cell_type": "code",
   "execution_count": 453,
   "metadata": {},
   "outputs": [
    {
     "data": {
      "image/png": "[encoded data removed]",
      "text/plain": [
       "<Figure size 720x720 with 1 Axes>"
      ]
     },
     "metadata": {
      "needs_background": "light"
     },
     "output_type": "display_data"
    }
   ],
   "source": [
    "from matplotlib import pyplot as plt\n",
    "plt.plot(h.history['accuracy'])\n",
    "plt.plot(h.history['val_accuracy'])\n",
    "plt.ylabel('accuracy')\n",
    "plt.xlabel('epoch')\n",
    "plt.legend(['train', 'val'], loc='upper left')\n",
    "plt.show()"
   ]
  },
  {
   "cell_type": "code",
   "execution_count": 458,
   "metadata": {},
   "outputs": [
    {
     "name": "stdout",
     "output_type": "stream",
     "text": [
      "1093/1093 [==============================] - 84s 77ms/step - loss: 0.1879 - accuracy: 0.9437\n"
     ]
    }
   ],
   "source": [
    "product = model.evaluate(X_val_padded, Y_val, verbose=1)"
   ]
  },
  {
   "cell_type": "code",
   "execution_count": 456,
   "metadata": {},
   "outputs": [
    {
     "data": {
      "text/plain": [
       "array([[0.00316848, 0.0742064 , 0.02548435, ..., 0.04758876, 0.99358624,\n",
       "        0.35268545],\n",
       "       [0.00523924, 0.04515272, 0.06434163, ..., 0.06860866, 0.97555155,\n",
       "        0.87473315],\n",
       "       [0.00377227, 0.04726546, 0.0106228 , ..., 0.03330581, 0.99654824,\n",
       "        0.4333279 ],\n",
       "       ...,\n",
       "       [0.00177681, 0.05132183, 0.00566   , ..., 0.01950614, 0.9985525 ,\n",
       "        0.31954512],\n",
       "       [0.0024245 , 0.0544186 , 0.00773553, ..., 0.02167354, 0.9983992 ,\n",
       "        0.40721366],\n",
       "       [0.00210065, 0.05114279, 0.00694792, ..., 0.0189482 , 0.99852175,\n",
       "        0.37352073]], dtype=float32)"
      ]
     },
     "execution_count": 456,
     "metadata": {},
     "output_type": "execute_result"
    }
   ],
   "source": [
    "test = np.amax(product)"
   ]
  },
  {
   "cell_type": "markdown",
   "metadata": {},
   "source": [
    "## Sub-product model"
   ]
  },
  {
   "cell_type": "code",
   "execution_count": 459,
   "metadata": {},
   "outputs": [
    {
     "data": {
      "text/plain": [
       "(139868, 94)"
      ]
     },
     "execution_count": 459,
     "metadata": {},
     "output_type": "execute_result"
    }
   ],
   "source": [
    "Y2_train.shape"
   ]
  },
  {
   "cell_type": "code",
   "execution_count": 460,
   "metadata": {},
   "outputs": [
    {
     "name": "stdout",
     "output_type": "stream",
     "text": [
      "Model: \"sequential_1\"\n",
      "_________________________________________________________________\n",
      " Layer (type)                Output Shape              Param #   \n",
      "=================================================================\n",
      " embedding_1 (Embedding)     (None, 2000, 16)          96000     \n",
      "                                                                 \n",
      " bidirectional_2 (Bidirectio  (None, 2000, 128)        41472     \n",
      " nal)                                                            \n",
      "                                                                 \n",
      " bidirectional_3 (Bidirectio  (None, 128)              98816     \n",
      " nal)                                                            \n",
      "                                                                 \n",
      " dense_1 (Dense)             (None, 94)                12126     \n",
      "                                                                 \n",
      "=================================================================\n",
      "Total params: 248,414\n",
      "Trainable params: 248,414\n",
      "Non-trainable params: 0\n",
      "_________________________________________________________________\n"
     ]
    }
   ],
   "source": [
    "vocab_size = 6000\n",
    "embedding_dim = 16 #dimensión de los vectores densos (word embeddings)\n",
    "\n",
    "model2 = keras.Sequential([\n",
    "                          layers.Embedding(vocab_size, embedding_dim, input_length=maxlen),\n",
    "                          layers.Bidirectional(layers.LSTM(64, return_sequences=True)),\n",
    "                          layers.Bidirectional(layers.LSTM(64)),\n",
    "                          layers.Dense(94, activation=\"sigmoid\")\n",
    "])\n",
    "\n",
    "model2.summary()"
   ]
  },
  {
   "cell_type": "code",
   "execution_count": 461,
   "metadata": {},
   "outputs": [],
   "source": [
    "model2.compile(loss=\"categorical_crossentropy\", optimizer=\"adam\", metrics=['accuracy'])"
   ]
  },
  {
   "cell_type": "code",
   "execution_count": 464,
   "metadata": {},
   "outputs": [
    {
     "name": "stdout",
     "output_type": "stream",
     "text": [
      "Epoch 1/2\n",
      "4371/4371 [==============================] - 874s 200ms/step - loss: 1.7072 - accuracy: 0.5322 - val_loss: 1.4313 - val_accuracy: 0.5987\n",
      "Epoch 2/2\n",
      "4371/4371 [==============================] - 864s 198ms/step - loss: 1.3205 - accuracy: 0.6247 - val_loss: 1.2823 - val_accuracy: 0.6307\n"
     ]
    }
   ],
   "source": [
    "h2 = model2.fit(X2_train_padded, Y2_train, epochs=2, validation_data=(X2_val_padded, Y2_val))"
   ]
  },
  {
   "cell_type": "code",
   "execution_count": 465,
   "metadata": {},
   "outputs": [
    {
     "data": {
      "image/png": "[encoded data removed]",
      "text/plain": [
       "<Figure size 720x720 with 1 Axes>"
      ]
     },
     "metadata": {
      "needs_background": "light"
     },
     "output_type": "display_data"
    }
   ],
   "source": [
    "plt.plot(h2.history['accuracy'])\n",
    "plt.plot(h2.history['val_accuracy'])\n",
    "plt.ylabel('accuracy')\n",
    "plt.xlabel('epoch')\n",
    "plt.legend(['train', 'val'], loc='upper left')\n",
    "plt.show()"
   ]
  },
  {
   "cell_type": "code",
   "execution_count": 466,
   "metadata": {},
   "outputs": [
    {
     "name": "stdout",
     "output_type": "stream",
     "text": [
      "1093/1093 [==============================] - 87s 79ms/step - loss: 1.2823 - accuracy: 0.6307\n"
     ]
    }
   ],
   "source": [
    "product = model2.evaluate(X2_val_padded, Y2_val, verbose=1)"
   ]
  },
  {
   "cell_type": "code",
   "execution_count": 499,
   "metadata": {},
   "outputs": [
    {
     "name": "stdout",
     "output_type": "stream",
     "text": [
      "Model: \"SupportModel\"\n",
      "__________________________________________________________________________________________________\n",
      " Layer (type)                   Output Shape         Param #     Connected to                     \n",
      "==================================================================================================\n",
      " input_14 (InputLayer)          [(None, 2000)]       0           []                               \n",
      "                                                                                                  \n",
      " embedding_11 (Embedding)       (None, 2000, 16)     96000       ['input_14[0][0]']               \n",
      "                                                                                                  \n",
      " embedding_12 (Embedding)       (None, 2000, 16)     96000       ['input_14[0][0]']               \n",
      "                                                                                                  \n",
      " bidirectional_27 (Bidirectiona  (None, 2000, 128)   41472       ['embedding_11[0][0]']           \n",
      " l)                                                                                               \n",
      "                                                                                                  \n",
      " bidirectional_29 (Bidirectiona  (None, 2000, 128)   41472       ['embedding_12[0][0]']           \n",
      " l)                                                                                               \n",
      "                                                                                                  \n",
      " bidirectional_28 (Bidirectiona  (None, 128)         98816       ['bidirectional_27[0][0]']       \n",
      " l)                                                                                               \n",
      "                                                                                                  \n",
      " bidirectional_30 (Bidirectiona  (None, 128)         98816       ['bidirectional_29[0][0]']       \n",
      " l)                                                                                               \n",
      "                                                                                                  \n",
      " prod (Dense)                   (None, 12)           1548        ['bidirectional_28[0][0]']       \n",
      "                                                                                                  \n",
      " subprod (Dense)                (None, 94)           12126       ['bidirectional_30[0][0]']       \n",
      "                                                                                                  \n",
      "==================================================================================================\n",
      "Total params: 486,250\n",
      "Trainable params: 486,250\n",
      "Non-trainable params: 0\n",
      "__________________________________________________________________________________________________\n"
     ]
    }
   ],
   "source": [
    "vocab_size = 6000\n",
    "embedding_dim = 16 #dimensión de los vectores densos (word embeddings)\n",
    "\n",
    "#input_layer = keras.Sequential()\n",
    "input_layer= layers.Input(maxlen)\n",
    "\n",
    "prod_layer = layers.Embedding(vocab_size, embedding_dim)(input_layer)\n",
    "subprod_layer = layers.Embedding(vocab_size, embedding_dim)(input_layer)\n",
    "\n",
    "prod_layer = layers.Bidirectional(layers.LSTM(64, return_sequences=True))(prod_layer)\n",
    "prod_layer = layers.Bidirectional(layers.LSTM(64))(prod_layer)\n",
    "prod_layer = layers.Dense(12, activation=\"sigmoid\", name=\"prod\")(prod_layer)\n",
    "\n",
    "subprod_layer = layers.Bidirectional(layers.LSTM(64, return_sequences=True))(subprod_layer)\n",
    "subprod_layer = layers.Bidirectional(layers.LSTM(64))(subprod_layer)\n",
    "subprod_layer = layers.Dense(94, activation=\"sigmoid\", name=\"subprod\")(subprod_layer)\n",
    "\n",
    "model3 = keras.Model(inputs=input_layer, outputs=[prod_layer,subprod_layer], name=\"SupportModel\")\n",
    "model3.summary()"
   ]
  },
  {
   "cell_type": "code",
   "execution_count": 500,
   "metadata": {},
   "outputs": [
    {
     "data": {
      "image/png": "[encoded data removed]",
      "text/plain": [
       "<IPython.core.display.Image object>"
      ]
     },
     "execution_count": 500,
     "metadata": {},
     "output_type": "execute_result"
    }
   ],
   "source": [
    "tf.keras.utils.plot_model(model3, show_shapes=True)"
   ]
  },
  {
   "cell_type": "code",
   "execution_count": 503,
   "metadata": {},
   "outputs": [],
   "source": [
    "model3.compile(loss=\"categorical_crossentropy\", optimizer=\"adam\", metrics=['accuracy'])"
   ]
  },
  {
   "cell_type": "code",
   "execution_count": 504,
   "metadata": {},
   "outputs": [],
   "source": [
    "metrics = {\n",
    "\t\"box\": ['accuracy'],\n",
    "\t\"class\": ['accuracy']\n",
    "}"
   ]
  },
  {
   "cell_type": "code",
   "execution_count": 505,
   "metadata": {},
   "outputs": [
    {
     "name": "stdout",
     "output_type": "stream",
     "text": [
      "Epoch 1/5\n",
      "4371/4371 [==============================] - 1741s 397ms/step - loss: 2.3162 - prod_loss: 0.3205 - subprod_loss: 1.9957 - prod_accuracy: 0.9136 - subprod_accuracy: 0.4600 - val_loss: 1.7438 - val_prod_loss: 0.2130 - val_subprod_loss: 1.5308 - val_prod_accuracy: 0.9420 - val_subprod_accuracy: 0.5778\n",
      "Epoch 2/5\n",
      "4371/4371 [==============================] - 1734s 397ms/step - loss: 1.5756 - prod_loss: 0.1962 - subprod_loss: 1.3794 - prod_accuracy: 0.9434 - subprod_accuracy: 0.6110 - val_loss: 1.4794 - val_prod_loss: 0.1895 - val_subprod_loss: 1.2899 - val_prod_accuracy: 0.9454 - val_subprod_accuracy: 0.6292\n",
      "Epoch 3/5\n",
      "4371/4371 [==============================] - 1707s 391ms/step - loss: 1.3954 - prod_loss: 0.1700 - subprod_loss: 1.2254 - prod_accuracy: 0.9490 - subprod_accuracy: 0.6449 - val_loss: 1.3879 - val_prod_loss: 0.1705 - val_subprod_loss: 1.2173 - val_prod_accuracy: 0.9491 - val_subprod_accuracy: 0.6439\n",
      "Epoch 4/5\n",
      "4371/4371 [==============================] - 1665s 381ms/step - loss: 1.2979 - prod_loss: 0.1512 - subprod_loss: 1.1466 - prod_accuracy: 0.9536 - subprod_accuracy: 0.6621 - val_loss: 1.3673 - val_prod_loss: 0.1692 - val_subprod_loss: 1.1981 - val_prod_accuracy: 0.9480 - val_subprod_accuracy: 0.6468\n",
      "Epoch 5/5\n",
      "4371/4371 [==============================] - 1752s 401ms/step - loss: 1.2366 - prod_loss: 0.1401 - subprod_loss: 1.0965 - prod_accuracy: 0.9557 - subprod_accuracy: 0.6736 - val_loss: 1.3513 - val_prod_loss: 0.1621 - val_subprod_loss: 1.1892 - val_prod_accuracy: 0.9505 - val_subprod_accuracy: 0.6514\n"
     ]
    }
   ],
   "source": [
    "h3 = model3.fit(\n",
    "    x = X2_train_padded, \n",
    "    y= {\n",
    "        \"prod\": Y_train,\n",
    "        \"subprod\": Y2_train\n",
    "    }, \n",
    "    epochs=5, \n",
    "    validation_data=(\n",
    "        X2_val_padded, \n",
    "        {\"prod\": Y_val,\n",
    "        \"subprod\": Y2_val\n",
    "    }),\n",
    "    verbose=1\n",
    "    )"
   ]
  },
  {
   "cell_type": "code",
   "execution_count": 506,
   "metadata": {},
   "outputs": [
    {
     "name": "stdout",
     "output_type": "stream",
     "text": [
      "1093/1093 [==============================] - 174s 159ms/step - loss: 1.3513 - prod_loss: 0.1621 - subprod_loss: 1.1892 - prod_accuracy: 0.9505 - subprod_accuracy: 0.6514\n"
     ]
    }
   ],
   "source": [
    "product3 = model3.evaluate(x= X_val_padded, y={\"prod\": Y_val, \"subprod\":Y2_val}, verbose=1)"
   ]
  },
  {
   "cell_type": "code",
   "execution_count": 547,
   "metadata": {},
   "outputs": [
    {
     "data": {
      "text/plain": [
       "(2000,)"
      ]
     },
     "execution_count": 547,
     "metadata": {},
     "output_type": "execute_result"
    }
   ],
   "source": [
    "X_val_padded[0].shape"
   ]
  },
  {
   "cell_type": "code",
   "execution_count": 562,
   "metadata": {},
   "outputs": [
    {
     "data": {
      "text/plain": [
       "['sharing error between <OOV> and <OOV> accounts getting an error custom field conflict when sharing videos with the <OOV> account <OOV> has added the <OOV> <OOV> tags but some of the other custom fields do not match when the <OOV> team tried to add custom fields they received the message there was an error creating the custom field could you please verify what the <OOV> is that we are missing for sharing compatibility between these two accounts thank you <OOV> <OOV> <OOV> <OOV> <OOV> <OOV> <OOV> <OOV> <OOV> <OOV> <OOV> <OOV> <OOV> <OOV> <OOV> <OOV> <OOV> <OOV> <OOV> <OOV> <OOV> <OOV> <OOV> <OOV> <OOV> <OOV> <OOV> <OOV> <OOV> <OOV> <OOV> <OOV> <OOV> <OOV> <OOV> <OOV> <OOV> <OOV> <OOV> <OOV> <OOV> <OOV> <OOV> <OOV> <OOV> <OOV> <OOV> <OOV> <OOV> <OOV> <OOV> <OOV> <OOV> <OOV> <OOV> <OOV> <OOV> <OOV> <OOV> <OOV> <OOV> <OOV> <OOV> <OOV> <OOV> <OOV> <OOV> <OOV> <OOV> <OOV> <OOV> <OOV> <OOV> <OOV> <OOV> <OOV> <OOV> <OOV> <OOV> <OOV> <OOV> <OOV> <OOV> <OOV> <OOV> <OOV> <OOV> <OOV> <OOV> <OOV> <OOV> <OOV> <OOV> <OOV> <OOV> <OOV> <OOV> <OOV> <OOV> <OOV> <OOV> <OOV> <OOV> <OOV> <OOV> <OOV> <OOV> <OOV> <OOV> <OOV> <OOV> <OOV> <OOV> <OOV> <OOV> <OOV> <OOV> <OOV> <OOV> <OOV> <OOV> <OOV> <OOV> <OOV> <OOV> <OOV> <OOV> <OOV> <OOV> <OOV> <OOV> <OOV> <OOV> <OOV> <OOV> <OOV> <OOV> <OOV> <OOV> <OOV> <OOV> <OOV> <OOV> <OOV> <OOV> <OOV> <OOV> <OOV> <OOV> <OOV> <OOV> <OOV> <OOV> <OOV> <OOV> <OOV> <OOV> <OOV> <OOV> <OOV> <OOV> <OOV> <OOV> <OOV> <OOV> <OOV> <OOV> <OOV> <OOV> <OOV> <OOV> <OOV> <OOV> <OOV> <OOV> <OOV> <OOV> <OOV> <OOV> <OOV> <OOV> <OOV> <OOV> <OOV> <OOV> <OOV> <OOV> <OOV> <OOV> <OOV> <OOV> <OOV> <OOV> <OOV> <OOV> <OOV> <OOV> <OOV> <OOV> <OOV> <OOV> <OOV> <OOV> <OOV> <OOV> <OOV> <OOV> <OOV> <OOV> <OOV> <OOV> <OOV> <OOV> <OOV> <OOV> <OOV> <OOV> <OOV> <OOV> <OOV> <OOV> <OOV> <OOV> <OOV> <OOV> <OOV> <OOV> <OOV> <OOV> <OOV> <OOV> <OOV> <OOV> <OOV> <OOV> <OOV> <OOV> <OOV> <OOV> <OOV> <OOV> <OOV> <OOV> <OOV> <OOV> <OOV> <OOV> <OOV> <OOV> <OOV> <OOV> <OOV> <OOV> <OOV> <OOV> <OOV> <OOV> <OOV> <OOV> <OOV> <OOV> <OOV> <OOV> <OOV> <OOV> <OOV> <OOV> <OOV> <OOV> <OOV> <OOV> <OOV> <OOV> <OOV> <OOV> <OOV> <OOV> <OOV> <OOV> <OOV> <OOV> <OOV> <OOV> <OOV> <OOV> <OOV> <OOV> <OOV> <OOV> <OOV> <OOV> <OOV> <OOV> <OOV> <OOV> <OOV> <OOV> <OOV> <OOV> <OOV> <OOV> <OOV> <OOV> <OOV> <OOV> <OOV> <OOV> <OOV> <OOV> <OOV> <OOV> <OOV> <OOV> <OOV> <OOV> <OOV> <OOV> <OOV> <OOV> <OOV> <OOV> <OOV> <OOV> <OOV> <OOV> <OOV> <OOV> <OOV> <OOV> <OOV> <OOV> <OOV> <OOV> <OOV> <OOV> <OOV> <OOV> <OOV> <OOV> <OOV> <OOV> <OOV> <OOV> <OOV> <OOV> <OOV> <OOV> <OOV> <OOV> <OOV> <OOV> <OOV> <OOV> <OOV> <OOV> <OOV> <OOV> <OOV> <OOV> <OOV> <OOV> <OOV> <OOV> <OOV> <OOV> <OOV> <OOV> <OOV> <OOV> <OOV> <OOV> <OOV> <OOV> <OOV> <OOV> <OOV> <OOV> <OOV> <OOV> <OOV> <OOV> <OOV> <OOV> <OOV> <OOV> <OOV> <OOV> <OOV> <OOV> <OOV> <OOV> <OOV> <OOV> <OOV> <OOV> <OOV> <OOV> <OOV> <OOV> <OOV> <OOV> <OOV> <OOV> <OOV> <OOV> <OOV> <OOV> <OOV> <OOV> <OOV> <OOV> <OOV> <OOV> <OOV> <OOV> <OOV> <OOV> <OOV> <OOV> <OOV> <OOV> <OOV> <OOV> <OOV> <OOV> <OOV> <OOV> <OOV> <OOV> <OOV> <OOV> <OOV> <OOV> <OOV> <OOV> <OOV> <OOV> <OOV> <OOV> <OOV> <OOV> <OOV> <OOV> <OOV> <OOV> <OOV> <OOV> <OOV> <OOV> <OOV> <OOV> <OOV> <OOV> <OOV> <OOV> <OOV> <OOV> <OOV> <OOV> <OOV> <OOV> <OOV> <OOV> <OOV> <OOV> <OOV> <OOV> <OOV> <OOV> <OOV> <OOV> <OOV> <OOV> <OOV> <OOV> <OOV> <OOV> <OOV> <OOV> <OOV> <OOV> <OOV> <OOV> <OOV> <OOV> <OOV> <OOV> <OOV> <OOV> <OOV> <OOV> <OOV> <OOV> <OOV> <OOV> <OOV> <OOV> <OOV> <OOV> <OOV> <OOV> <OOV> <OOV> <OOV> <OOV> <OOV> <OOV> <OOV> <OOV> <OOV> <OOV> <OOV> <OOV> <OOV> <OOV> <OOV> <OOV> <OOV> <OOV> <OOV> <OOV> <OOV> <OOV> <OOV> <OOV> <OOV> <OOV> <OOV> <OOV> <OOV> <OOV> <OOV> <OOV> <OOV> <OOV> <OOV> <OOV> <OOV> <OOV> <OOV> <OOV> <OOV> <OOV> <OOV> <OOV> <OOV> <OOV> <OOV> <OOV> <OOV> <OOV> <OOV> <OOV> <OOV> <OOV> <OOV> <OOV> <OOV> <OOV> <OOV> <OOV> <OOV> <OOV> <OOV> <OOV> <OOV> <OOV> <OOV> <OOV> <OOV> <OOV> <OOV> <OOV> <OOV> <OOV> <OOV> <OOV> <OOV> <OOV> <OOV> <OOV> <OOV> <OOV> <OOV> <OOV> <OOV> <OOV> <OOV> <OOV> <OOV> <OOV> <OOV> <OOV> <OOV> <OOV> <OOV> <OOV> <OOV> <OOV> <OOV> <OOV> <OOV> <OOV> <OOV> <OOV> <OOV> <OOV> <OOV> <OOV> <OOV> <OOV> <OOV> <OOV> <OOV> <OOV> <OOV> <OOV> <OOV> <OOV> <OOV> <OOV> <OOV> <OOV> <OOV> <OOV> <OOV> <OOV> <OOV> <OOV> <OOV> <OOV> <OOV> <OOV> <OOV> <OOV> <OOV> <OOV> <OOV> <OOV> <OOV> <OOV> <OOV> <OOV> <OOV> <OOV> <OOV> <OOV> <OOV> <OOV> <OOV> <OOV> <OOV> <OOV> <OOV> <OOV> <OOV> <OOV> <OOV> <OOV> <OOV> <OOV> <OOV> <OOV> <OOV> <OOV> <OOV> <OOV> <OOV> <OOV> <OOV> <OOV> <OOV> <OOV> <OOV> <OOV> <OOV> <OOV> <OOV> <OOV> <OOV> <OOV> <OOV> <OOV> <OOV> <OOV> <OOV> <OOV> <OOV> <OOV> <OOV> <OOV> <OOV> <OOV> <OOV> <OOV> <OOV> <OOV> <OOV> <OOV> <OOV> <OOV> <OOV> <OOV> <OOV> <OOV> <OOV> <OOV> <OOV> <OOV> <OOV> <OOV> <OOV> <OOV> <OOV> <OOV> <OOV> <OOV> <OOV> <OOV> <OOV> <OOV> <OOV> <OOV> <OOV> <OOV> <OOV> <OOV> <OOV> <OOV> <OOV> <OOV> <OOV> <OOV> <OOV> <OOV> <OOV> <OOV> <OOV> <OOV> <OOV> <OOV> <OOV> <OOV> <OOV> <OOV> <OOV> <OOV> <OOV> <OOV> <OOV> <OOV> <OOV> <OOV> <OOV> <OOV> <OOV> <OOV> <OOV> <OOV> <OOV> <OOV> <OOV> <OOV> <OOV> <OOV> <OOV> <OOV> <OOV> <OOV> <OOV> <OOV> <OOV> <OOV> <OOV> <OOV> <OOV> <OOV> <OOV> <OOV> <OOV> <OOV> <OOV> <OOV> <OOV> <OOV> <OOV> <OOV> <OOV> <OOV> <OOV> <OOV> <OOV> <OOV> <OOV> <OOV> <OOV> <OOV> <OOV> <OOV> <OOV> <OOV> <OOV> <OOV> <OOV> <OOV> <OOV> <OOV> <OOV> <OOV> <OOV> <OOV> <OOV> <OOV> <OOV> <OOV> <OOV> <OOV> <OOV> <OOV> <OOV> <OOV> <OOV> <OOV> <OOV> <OOV> <OOV> <OOV> <OOV> <OOV> <OOV> <OOV> <OOV> <OOV> <OOV> <OOV> <OOV> <OOV> <OOV> <OOV> <OOV> <OOV> <OOV> <OOV> <OOV> <OOV> <OOV> <OOV> <OOV> <OOV> <OOV> <OOV> <OOV> <OOV> <OOV> <OOV> <OOV> <OOV> <OOV> <OOV> <OOV> <OOV> <OOV> <OOV> <OOV> <OOV> <OOV> <OOV> <OOV> <OOV> <OOV> <OOV> <OOV> <OOV> <OOV> <OOV> <OOV> <OOV> <OOV> <OOV> <OOV> <OOV> <OOV> <OOV> <OOV> <OOV> <OOV> <OOV> <OOV> <OOV> <OOV> <OOV> <OOV> <OOV> <OOV> <OOV> <OOV> <OOV> <OOV> <OOV> <OOV> <OOV> <OOV> <OOV> <OOV> <OOV> <OOV> <OOV> <OOV> <OOV> <OOV> <OOV> <OOV> <OOV> <OOV> <OOV> <OOV> <OOV> <OOV> <OOV> <OOV> <OOV> <OOV> <OOV> <OOV> <OOV> <OOV> <OOV> <OOV> <OOV> <OOV> <OOV> <OOV> <OOV> <OOV> <OOV> <OOV> <OOV> <OOV> <OOV> <OOV> <OOV> <OOV> <OOV> <OOV> <OOV> <OOV> <OOV> <OOV> <OOV> <OOV> <OOV> <OOV> <OOV> <OOV> <OOV> <OOV> <OOV> <OOV> <OOV> <OOV> <OOV> <OOV> <OOV> <OOV> <OOV> <OOV> <OOV> <OOV> <OOV> <OOV> <OOV> <OOV> <OOV> <OOV> <OOV> <OOV> <OOV> <OOV> <OOV> <OOV> <OOV> <OOV> <OOV> <OOV> <OOV> <OOV> <OOV> <OOV> <OOV> <OOV> <OOV> <OOV> <OOV> <OOV> <OOV> <OOV> <OOV> <OOV> <OOV> <OOV> <OOV> <OOV> <OOV> <OOV> <OOV> <OOV> <OOV> <OOV> <OOV> <OOV> <OOV> <OOV> <OOV> <OOV> <OOV> <OOV> <OOV> <OOV> <OOV> <OOV> <OOV> <OOV> <OOV> <OOV> <OOV> <OOV> <OOV> <OOV> <OOV> <OOV> <OOV> <OOV> <OOV> <OOV> <OOV> <OOV> <OOV> <OOV> <OOV> <OOV> <OOV> <OOV> <OOV> <OOV> <OOV> <OOV> <OOV> <OOV> <OOV> <OOV> <OOV> <OOV> <OOV> <OOV> <OOV> <OOV> <OOV> <OOV> <OOV> <OOV> <OOV> <OOV> <OOV> <OOV> <OOV> <OOV> <OOV> <OOV> <OOV> <OOV> <OOV> <OOV> <OOV> <OOV> <OOV> <OOV> <OOV> <OOV> <OOV> <OOV> <OOV> <OOV> <OOV> <OOV> <OOV> <OOV> <OOV> <OOV> <OOV> <OOV> <OOV> <OOV> <OOV> <OOV> <OOV> <OOV> <OOV> <OOV> <OOV> <OOV> <OOV> <OOV> <OOV> <OOV> <OOV> <OOV> <OOV> <OOV> <OOV> <OOV> <OOV> <OOV> <OOV> <OOV> <OOV> <OOV> <OOV> <OOV> <OOV> <OOV> <OOV> <OOV> <OOV> <OOV> <OOV> <OOV> <OOV> <OOV> <OOV> <OOV> <OOV> <OOV> <OOV> <OOV> <OOV> <OOV> <OOV> <OOV> <OOV> <OOV> <OOV> <OOV> <OOV> <OOV> <OOV> <OOV> <OOV> <OOV> <OOV> <OOV> <OOV> <OOV> <OOV> <OOV> <OOV> <OOV> <OOV> <OOV> <OOV> <OOV> <OOV> <OOV> <OOV> <OOV> <OOV> <OOV> <OOV> <OOV> <OOV> <OOV> <OOV> <OOV> <OOV> <OOV> <OOV> <OOV> <OOV> <OOV> <OOV> <OOV> <OOV> <OOV> <OOV> <OOV> <OOV> <OOV> <OOV> <OOV> <OOV> <OOV> <OOV> <OOV> <OOV> <OOV> <OOV> <OOV> <OOV> <OOV> <OOV> <OOV> <OOV> <OOV> <OOV> <OOV> <OOV> <OOV> <OOV> <OOV> <OOV> <OOV> <OOV> <OOV> <OOV> <OOV> <OOV> <OOV> <OOV> <OOV> <OOV> <OOV> <OOV> <OOV> <OOV> <OOV> <OOV> <OOV> <OOV> <OOV> <OOV> <OOV> <OOV> <OOV> <OOV> <OOV> <OOV> <OOV> <OOV> <OOV> <OOV> <OOV> <OOV> <OOV> <OOV> <OOV> <OOV> <OOV> <OOV> <OOV> <OOV> <OOV> <OOV> <OOV> <OOV> <OOV> <OOV> <OOV> <OOV> <OOV> <OOV> <OOV> <OOV> <OOV> <OOV> <OOV> <OOV> <OOV> <OOV> <OOV> <OOV> <OOV> <OOV> <OOV> <OOV> <OOV> <OOV> <OOV> <OOV> <OOV> <OOV> <OOV> <OOV> <OOV> <OOV> <OOV> <OOV> <OOV> <OOV> <OOV> <OOV> <OOV> <OOV> <OOV> <OOV> <OOV> <OOV> <OOV> <OOV> <OOV> <OOV> <OOV> <OOV> <OOV> <OOV> <OOV> <OOV> <OOV> <OOV> <OOV> <OOV> <OOV> <OOV> <OOV> <OOV> <OOV> <OOV> <OOV> <OOV> <OOV> <OOV> <OOV> <OOV> <OOV> <OOV> <OOV> <OOV> <OOV> <OOV> <OOV> <OOV> <OOV> <OOV> <OOV> <OOV> <OOV> <OOV> <OOV> <OOV> <OOV> <OOV> <OOV> <OOV> <OOV> <OOV> <OOV> <OOV> <OOV> <OOV> <OOV> <OOV> <OOV> <OOV> <OOV> <OOV> <OOV> <OOV> <OOV> <OOV> <OOV> <OOV> <OOV> <OOV> <OOV> <OOV> <OOV> <OOV> <OOV> <OOV> <OOV> <OOV> <OOV> <OOV> <OOV> <OOV> <OOV> <OOV> <OOV> <OOV> <OOV> <OOV> <OOV> <OOV> <OOV> <OOV> <OOV> <OOV> <OOV> <OOV> <OOV> <OOV> <OOV> <OOV> <OOV> <OOV> <OOV> <OOV> <OOV> <OOV> <OOV> <OOV> <OOV> <OOV> <OOV> <OOV> <OOV> <OOV> <OOV> <OOV> <OOV> <OOV> <OOV> <OOV> <OOV> <OOV> <OOV> <OOV> <OOV> <OOV> <OOV> <OOV> <OOV> <OOV> <OOV> <OOV> <OOV> <OOV> <OOV> <OOV> <OOV> <OOV> <OOV> <OOV> <OOV> <OOV> <OOV> <OOV> <OOV> <OOV> <OOV> <OOV> <OOV> <OOV> <OOV> <OOV> <OOV> <OOV> <OOV> <OOV> <OOV> <OOV> <OOV> <OOV> <OOV> <OOV> <OOV> <OOV> <OOV> <OOV> <OOV> <OOV> <OOV> <OOV> <OOV> <OOV> <OOV> <OOV> <OOV> <OOV> <OOV> <OOV> <OOV> <OOV> <OOV> <OOV> <OOV> <OOV> <OOV> <OOV> <OOV> <OOV> <OOV> <OOV> <OOV> <OOV> <OOV> <OOV> <OOV> <OOV> <OOV> <OOV> <OOV> <OOV> <OOV> <OOV> <OOV> <OOV> <OOV> <OOV> <OOV> <OOV> <OOV> <OOV> <OOV> <OOV> <OOV> <OOV> <OOV> <OOV> <OOV> <OOV> <OOV> <OOV> <OOV> <OOV> <OOV> <OOV> <OOV> <OOV> <OOV> <OOV> <OOV> <OOV> <OOV> <OOV> <OOV> <OOV> <OOV> <OOV> <OOV> <OOV> <OOV> <OOV> <OOV> <OOV> <OOV> <OOV> <OOV> <OOV> <OOV> <OOV> <OOV> <OOV> <OOV> <OOV> <OOV> <OOV> <OOV> <OOV> <OOV> <OOV> <OOV> <OOV> <OOV> <OOV> <OOV> <OOV> <OOV> <OOV> <OOV> <OOV> <OOV> <OOV> <OOV> <OOV> <OOV> <OOV> <OOV> <OOV> <OOV> <OOV> <OOV> <OOV> <OOV> <OOV> <OOV> <OOV> <OOV> <OOV> <OOV> <OOV> <OOV> <OOV> <OOV> <OOV> <OOV> <OOV> <OOV> <OOV> <OOV> <OOV> <OOV> <OOV> <OOV> <OOV> <OOV> <OOV> <OOV> <OOV> <OOV> <OOV> <OOV> <OOV> <OOV> <OOV> <OOV> <OOV> <OOV> <OOV> <OOV> <OOV> <OOV> <OOV> <OOV> <OOV> <OOV> <OOV> <OOV> <OOV> <OOV> <OOV> <OOV> <OOV> <OOV> <OOV> <OOV> <OOV> <OOV> <OOV> <OOV> <OOV> <OOV> <OOV> <OOV> <OOV> <OOV> <OOV> <OOV> <OOV> <OOV> <OOV> <OOV> <OOV> <OOV> <OOV> <OOV> <OOV> <OOV> <OOV> <OOV> <OOV> <OOV> <OOV> <OOV> <OOV> <OOV> <OOV> <OOV> <OOV> <OOV> <OOV> <OOV> <OOV> <OOV> <OOV> <OOV> <OOV> <OOV> <OOV> <OOV> <OOV> <OOV> <OOV> <OOV> <OOV> <OOV> <OOV> <OOV> <OOV> <OOV> <OOV> <OOV> <OOV> <OOV> <OOV> <OOV> <OOV> <OOV> <OOV> <OOV> <OOV> <OOV> <OOV> <OOV> <OOV> <OOV> <OOV> <OOV> <OOV> <OOV> <OOV> <OOV> <OOV> <OOV> <OOV> <OOV> <OOV> <OOV> <OOV> <OOV> <OOV> <OOV> <OOV> <OOV> <OOV> <OOV> <OOV> <OOV> <OOV> <OOV> <OOV> <OOV> <OOV> <OOV> <OOV> <OOV> <OOV> <OOV> <OOV> <OOV> <OOV> <OOV> <OOV> <OOV> <OOV> <OOV> <OOV> <OOV> <OOV> <OOV> <OOV> <OOV> <OOV> <OOV> <OOV> <OOV> <OOV> <OOV> <OOV> <OOV> <OOV> <OOV> <OOV> <OOV> <OOV> <OOV> <OOV> <OOV> <OOV> <OOV> <OOV> <OOV> <OOV> <OOV> <OOV> <OOV> <OOV> <OOV> <OOV> <OOV> <OOV> <OOV> <OOV> <OOV> <OOV> <OOV> <OOV> <OOV> <OOV> <OOV> <OOV> <OOV> <OOV> <OOV> <OOV> <OOV> <OOV> <OOV> <OOV> <OOV> <OOV> <OOV> <OOV> <OOV> <OOV> <OOV> <OOV> <OOV> <OOV> <OOV> <OOV> <OOV> <OOV> <OOV> <OOV> <OOV> <OOV> <OOV> <OOV> <OOV> <OOV> <OOV> <OOV> <OOV> <OOV> <OOV> <OOV> <OOV> <OOV> <OOV> <OOV> <OOV> <OOV> <OOV> <OOV> <OOV> <OOV> <OOV> <OOV> <OOV> <OOV> <OOV> <OOV> <OOV> <OOV> <OOV> <OOV> <OOV> <OOV> <OOV> <OOV> <OOV> <OOV> <OOV> <OOV> <OOV> <OOV> <OOV> <OOV> <OOV> <OOV> <OOV> <OOV> <OOV> <OOV> <OOV> <OOV> <OOV> <OOV> <OOV> <OOV> <OOV> <OOV> <OOV> <OOV> <OOV> <OOV> <OOV> <OOV> <OOV> <OOV> <OOV> <OOV> <OOV> <OOV> <OOV> <OOV> <OOV> <OOV> <OOV> <OOV> <OOV> <OOV> <OOV> <OOV> <OOV> <OOV> <OOV> <OOV> <OOV> <OOV> <OOV> <OOV> <OOV> <OOV> <OOV> <OOV> <OOV> <OOV> <OOV> <OOV> <OOV> <OOV> <OOV> <OOV> <OOV> <OOV> <OOV> <OOV> <OOV> <OOV> <OOV> <OOV> <OOV> <OOV> <OOV> <OOV> <OOV> <OOV> <OOV> <OOV> <OOV> <OOV>']"
      ]
     },
     "execution_count": 562,
     "metadata": {},
     "output_type": "execute_result"
    }
   ],
   "source": [
    "tokenizer.sequences_to_texts([X_val_padded[2000]])"
   ]
  },
  {
   "cell_type": "code",
   "execution_count": 564,
   "metadata": {},
   "outputs": [],
   "source": [
    "testing = tf.reshape(X_val_padded[2000], (-1,2000))"
   ]
  },
  {
   "cell_type": "code",
   "execution_count": 565,
   "metadata": {},
   "outputs": [],
   "source": [
    "producto, subproducto = model3.predict(testing)"
   ]
  },
  {
   "cell_type": "code",
   "execution_count": 566,
   "metadata": {},
   "outputs": [
    {
     "name": "stdout",
     "output_type": "stream",
     "text": [
      "10\n",
      "58\n"
     ]
    }
   ],
   "source": [
    "print(np.argmax(producto))\n",
    "print(np.argmax(subproducto))"
   ]
  },
  {
   "cell_type": "code",
   "execution_count": 567,
   "metadata": {},
   "outputs": [
    {
     "data": {
      "text/plain": [
       "'Video Cloud'"
      ]
     },
     "execution_count": 567,
     "metadata": {},
     "output_type": "execute_result"
    }
   ],
   "source": [
    "label_encoder.inverse_transform(producto)[0]\n"
   ]
  },
  {
   "cell_type": "code",
   "execution_count": 569,
   "metadata": {},
   "outputs": [
    {
     "data": {
      "text/plain": [
       "'Metadata'"
      ]
     },
     "execution_count": 569,
     "metadata": {},
     "output_type": "execute_result"
    }
   ],
   "source": [
    "label_encoder2.inverse_transform(subproducto)[0]"
   ]
  },
  {
   "cell_type": "code",
   "execution_count": null,
   "metadata": {},
   "outputs": [],
   "source": []
  }
 ],
 "metadata": {
  "interpreter": {
   "hash": "916dbcbb3f70747c44a77c7bcd40155683ae19c65e1c03b4aa3499c5328201f1"
  },
  "kernelspec": {
   "display_name": "Python 3.8.10 64-bit",
   "language": "python",
   "name": "python3"
  },
  "language_info": {
   "codemirror_mode": {
    "name": "ipython",
    "version": 3
   },
   "file_extension": ".py",
   "mimetype": "text/x-python",
   "name": "python",
   "nbconvert_exporter": "python",
   "pygments_lexer": "ipython3",
   "version": "3.8.10"
  },
  "orig_nbformat": 4
 },
 "nbformat": 4,
 "nbformat_minor": 2
}
